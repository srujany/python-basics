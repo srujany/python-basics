{
  "nbformat": 4,
  "nbformat_minor": 0,
  "metadata": {
    "colab": {
      "provenance": [],
      "authorship_tag": "ABX9TyNEhAqAwXggGbRbzrZFD3VE",
      "include_colab_link": true
    },
    "kernelspec": {
      "name": "python3",
      "display_name": "Python 3"
    },
    "language_info": {
      "name": "python"
    }
  },
  "cells": [
    {
      "cell_type": "markdown",
      "metadata": {
        "id": "view-in-github",
        "colab_type": "text"
      },
      "source": [
        "<a href=\"https://colab.research.google.com/github/srujany/python-basics/blob/main/advance%20data%20stucture.ipynb\" target=\"_parent\"><img src=\"https://colab.research.google.com/assets/colab-badge.svg\" alt=\"Open In Colab\"/></a>"
      ]
    },
    {
      "cell_type": "markdown",
      "source": [],
      "metadata": {
        "id": "hfXtGlLSTU4m"
      }
    },
    {
      "cell_type": "markdown",
      "source": [],
      "metadata": {
        "id": "2DyPLPWXT-Ej"
      }
    },
    {
      "cell_type": "markdown",
      "source": [
        "1. Write a code to reverse a string.\n",
        "\n",
        "\n"
      ],
      "metadata": {
        "id": "_WKULigvUEbO"
      }
    },
    {
      "cell_type": "code",
      "source": [
        "\n",
        "\n",
        "bxt = \"srujen\"\n",
        "print(bxt[5::-1])\n",
        "\n"
      ],
      "metadata": {
        "id": "-3kP92eeUJgH",
        "outputId": "a9db4e45-5f65-48b5-9076-b4a5721f1a55",
        "colab": {
          "base_uri": "https://localhost:8080/"
        }
      },
      "execution_count": 2,
      "outputs": [
        {
          "output_type": "stream",
          "name": "stdout",
          "text": [
            "nejurs\n"
          ]
        }
      ]
    },
    {
      "cell_type": "markdown",
      "source": [
        "2. Write a code to count the number of vowels in a string.\n",
        "\n"
      ],
      "metadata": {
        "id": "68f1QzHCUQhC"
      }
    },
    {
      "cell_type": "code",
      "source": [
        "\n",
        "\n",
        "s = \"humankind\"\n",
        "count = 0\n",
        "for char in s:\n",
        "  if char in \"AaEeliOoUu\":\n",
        "    count = count + 1\n",
        "\n",
        "print(count)\n"
      ],
      "metadata": {
        "id": "9k1G-MipUQxx",
        "outputId": "5937b025-c13b-47cb-9a57-b4e2182636da",
        "colab": {
          "base_uri": "https://localhost:8080/"
        }
      },
      "execution_count": 4,
      "outputs": [
        {
          "output_type": "stream",
          "name": "stdout",
          "text": [
            "3\n"
          ]
        }
      ]
    },
    {
      "cell_type": "markdown",
      "source": [
        "3. Write a code to check if a given string is a palindrome or not\n",
        "\n"
      ],
      "metadata": {
        "id": "UxfUFAAlUhuC"
      }
    },
    {
      "cell_type": "code",
      "source": [
        "\n",
        "palin = str(input(\"string:\"))\n",
        "\n",
        "reverse = palin[len(palin)::-1]\n",
        "if palin == reverse:\n",
        "  print(\"its palindrome\")\n",
        "else:\n",
        "\n",
        "  print(\"not a palindrome\")\n",
        "\n"
      ],
      "metadata": {
        "id": "rhsuN2R4Uh_S",
        "outputId": "58e92883-7371-4530-d02d-415b1efed549",
        "colab": {
          "base_uri": "https://localhost:8080/"
        }
      },
      "execution_count": 8,
      "outputs": [
        {
          "output_type": "stream",
          "name": "stdout",
          "text": [
            "string:mallam\n",
            "its palindrome\n"
          ]
        }
      ]
    },
    {
      "cell_type": "markdown",
      "source": [
        "\n",
        "\n",
        "4. Write a code to check if two given strings are anagrams of each other.\n",
        "\n"
      ],
      "metadata": {
        "id": "BzekBCMaWTR3"
      }
    },
    {
      "cell_type": "code",
      "source": [
        "\n",
        "string1 = \"night\"\n",
        "string2 = \"thing\"\n",
        "sorted_string1 = sorted(string1)\n",
        "sorted_string2 = sorted(string2)\n",
        "if sorted_string1 == sorted_string2:\n",
        "  print(\"this are anagrams\")\n",
        "else:\n",
        "  print(\"not\")\n"
      ],
      "metadata": {
        "id": "zp-RMqwcWTmh",
        "outputId": "c4256606-beab-421f-800c-0c233da0a71f",
        "colab": {
          "base_uri": "https://localhost:8080/"
        }
      },
      "execution_count": 9,
      "outputs": [
        {
          "output_type": "stream",
          "name": "stdout",
          "text": [
            "this are anagrams\n"
          ]
        }
      ]
    },
    {
      "cell_type": "markdown",
      "source": [
        "5. Write a code to find all occurrences of a given substring within another string.\n",
        "\n"
      ],
      "metadata": {
        "id": "HCD11oojWxjx"
      }
    },
    {
      "cell_type": "code",
      "source": [
        "string1 = \"babbu\"\n",
        "subs = []\n",
        "for i in range(0,len(string1)):\n",
        "  for j in range(i+1 ,len(string1) + 1):\n",
        "      subs.append(string1[i:j])\n",
        "\n",
        "print(subs)\n"
      ],
      "metadata": {
        "id": "oOS-ztBMWyCh",
        "outputId": "670cd148-f315-479a-8f44-471afb0b93ff",
        "colab": {
          "base_uri": "https://localhost:8080/"
        }
      },
      "execution_count": 14,
      "outputs": [
        {
          "output_type": "stream",
          "name": "stdout",
          "text": [
            "['b', 'ba', 'bab', 'babb', 'babbu', 'a', 'ab', 'abb', 'abbu', 'b', 'bb', 'bbu', 'b', 'bu', 'u']\n"
          ]
        }
      ]
    },
    {
      "cell_type": "markdown",
      "source": [
        "7.Write a code to determine if a string has all unique characters.\n",
        "\n"
      ],
      "metadata": {
        "id": "xK06v8h9YO3Q"
      }
    },
    {
      "cell_type": "code",
      "source": [],
      "metadata": {
        "id": "-iygcsDcZC7J"
      },
      "execution_count": null,
      "outputs": []
    },
    {
      "cell_type": "code",
      "source": [
        "def check(a):\n",
        "    a = sorted(a)\n",
        "    for i in range(len(a) - 1):\n",
        "        if a[i] == a[i+1]:\n",
        "            return False\n",
        "    return True\n",
        "\n",
        "str1 = input().lower()\n",
        "s = check(str1)\n",
        "if s:\n",
        "  print(\"yes\")\n",
        "else:\n",
        "  print(\"no\")\n"
      ],
      "metadata": {
        "id": "HAxcIjm5YPXz",
        "outputId": "c7f0743c-a6de-461a-94df-dba1f716aa63",
        "colab": {
          "base_uri": "https://localhost:8080/"
        }
      },
      "execution_count": 18,
      "outputs": [
        {
          "output_type": "stream",
          "name": "stdout",
          "text": [
            "asd\n",
            "yes\n"
          ]
        }
      ]
    },
    {
      "cell_type": "markdown",
      "source": [
        "8.Write a code to convert a given string to uppercase or lowercase.\n",
        "\n"
      ],
      "metadata": {
        "id": "DGXkfHneazOe"
      }
    },
    {
      "cell_type": "code",
      "source": [
        "str1 = str(input(\"string: \"))\n",
        "str2 = str1.lower()\n",
        "print(str2)\n",
        "\n"
      ],
      "metadata": {
        "id": "Zf1S-1LvazuL",
        "outputId": "8caff230-5581-42f3-ec6d-e0828492525a",
        "colab": {
          "base_uri": "https://localhost:8080/"
        }
      },
      "execution_count": 19,
      "outputs": [
        {
          "output_type": "stream",
          "name": "stdout",
          "text": [
            "string: PWSKILL\n",
            "pwskill\n"
          ]
        }
      ]
    },
    {
      "cell_type": "markdown",
      "source": [
        "9.Write a code to count the number of words in a string.\n",
        "\n"
      ],
      "metadata": {
        "id": "zEVmAqWybvu0"
      }
    },
    {
      "cell_type": "code",
      "source": [
        "str1 = input(\"str: \")\n",
        "str2 = len(str1)\n",
        "print(str2)\n",
        "\n"
      ],
      "metadata": {
        "id": "bbZjjS9zbwQZ",
        "outputId": "25ede099-2656-49e7-f661-3f7548b13f41",
        "colab": {
          "base_uri": "https://localhost:8080/"
        }
      },
      "execution_count": 20,
      "outputs": [
        {
          "output_type": "stream",
          "name": "stdout",
          "text": [
            "str: srujan\n",
            "6\n"
          ]
        }
      ]
    },
    {
      "cell_type": "markdown",
      "source": [
        "10.Write a code to concatenate two strings without using the + operator.\n"
      ],
      "metadata": {
        "id": "RAvLQykgctA3"
      }
    },
    {
      "cell_type": "code",
      "source": [
        "str1 = input(\"string1:\")\n",
        "\n",
        "str2 = input(\"string2:\")\n",
        "\n",
        "print(f\"{str1}{str2}\")\n",
        "\n"
      ],
      "metadata": {
        "id": "E1eVTpzvctUI",
        "outputId": "9631e89e-3be6-43c3-8cbd-6694476c8e88",
        "colab": {
          "base_uri": "https://localhost:8080/"
        }
      },
      "execution_count": 22,
      "outputs": [
        {
          "output_type": "stream",
          "name": "stdout",
          "text": [
            "string1:pw\n",
            "string2:skill\n",
            "pwskill\n"
          ]
        }
      ]
    },
    {
      "cell_type": "markdown",
      "source": [
        "11.Write a code to remove all occurrences of a specific element from a list.\n"
      ],
      "metadata": {
        "id": "haoINqerdN5c"
      }
    },
    {
      "cell_type": "code",
      "source": [
        "lis1 =[1, 1, 2, 2, 3, 3]\n",
        "remove_element = 1\n",
        "while remove_element in lis1:\n",
        "  lis1.remove(remove_element)\n",
        "print(lis1)\n",
        "\n"
      ],
      "metadata": {
        "id": "oaMMEQcfdOZP",
        "outputId": "e841e1ec-5f5e-4a17-9ae8-a9e1cc206b76",
        "colab": {
          "base_uri": "https://localhost:8080/"
        }
      },
      "execution_count": 24,
      "outputs": [
        {
          "output_type": "stream",
          "name": "stdout",
          "text": [
            "[2, 2, 3, 3]\n"
          ]
        }
      ]
    },
    {
      "cell_type": "markdown",
      "source": [
        "12.Implement a code to find the second largest number in a given list of integers.\n"
      ],
      "metadata": {
        "id": "0rvo0QTCd0k7"
      }
    },
    {
      "cell_type": "code",
      "source": [
        "lis1 =[10, 20, 4, 45, 99]\n",
        "lis1 .sort()\n",
        "\n",
        "print(lis1[-2])\n"
      ],
      "metadata": {
        "id": "6ais67Vxd05B",
        "outputId": "f6b1e577-c767-4951-9661-3c231977b81d",
        "colab": {
          "base_uri": "https://localhost:8080/"
        }
      },
      "execution_count": 25,
      "outputs": [
        {
          "output_type": "stream",
          "name": "stdout",
          "text": [
            "45\n"
          ]
        }
      ]
    },
    {
      "cell_type": "markdown",
      "source": [
        "13.Create a code to count the occurrences of each element in a list and return a dictionary\n",
        "with elements as keys and their counts as values.\n",
        "\n"
      ],
      "metadata": {
        "id": "HukjOEpveH_K"
      }
    },
    {
      "cell_type": "code",
      "source": [
        "def count_elements(Ist):\n",
        "  count_dict = {}\n",
        "  for element in Ist:\n",
        "       if element in count_dict:\n",
        "         count_dict[element] += 1\n",
        "       else:\n",
        "         count_dict[element] = 1\n",
        "  return count_dict\n",
        "\n",
        "fruits = [1, 2, 2, 1, 1]\n",
        "result = count_elements(fruits)\n",
        "print(result)\n",
        "\n"
      ],
      "metadata": {
        "id": "AUDqDSAOeIS3",
        "outputId": "69b6abc0-5917-4c00-c550-abfe0e06a484",
        "colab": {
          "base_uri": "https://localhost:8080/"
        }
      },
      "execution_count": 33,
      "outputs": [
        {
          "output_type": "stream",
          "name": "stdout",
          "text": [
            "{1: 3, 2: 2}\n"
          ]
        }
      ]
    },
    {
      "cell_type": "markdown",
      "source": [
        "14,Write a code to reverse a list in-place without using any built-in reverse functions.\n",
        "\n",
        "\n"
      ],
      "metadata": {
        "id": "3DO-aFm0flJt"
      }
    },
    {
      "cell_type": "code",
      "source": [
        "lis1 = list(range(6))\n",
        "\n",
        "lis2 = lis1[6::-1]\n",
        "print(lis2)\n",
        "\n"
      ],
      "metadata": {
        "id": "iAXrLHoMfldB",
        "outputId": "9ad3eca3-e573-4279-f739-25ec114c966e",
        "colab": {
          "base_uri": "https://localhost:8080/"
        }
      },
      "execution_count": 34,
      "outputs": [
        {
          "output_type": "stream",
          "name": "stdout",
          "text": [
            "[5, 4, 3, 2, 1, 0]\n"
          ]
        }
      ]
    },
    {
      "cell_type": "markdown",
      "source": [
        "15. Implement a code to find and remove duplicates from a list while preserving the original\n",
        "order of elements.\n",
        "\n"
      ],
      "metadata": {
        "id": "lRUSu6eTf-02"
      }
    },
    {
      "cell_type": "code",
      "source": [
        "lis1 = [5, 4, 3, 3, 2, 1, 2, 1, 0]\n",
        "set_change = set(lis1)\n",
        "\n",
        "lis3 = list(set_change)\n",
        "print(lis3)\n",
        "\n"
      ],
      "metadata": {
        "id": "UP9eFI-qf_Ht",
        "outputId": "e8b9e608-3559-4346-87c3-ab566d4a2455",
        "colab": {
          "base_uri": "https://localhost:8080/"
        }
      },
      "execution_count": 35,
      "outputs": [
        {
          "output_type": "stream",
          "name": "stdout",
          "text": [
            "[0, 1, 2, 3, 4, 5]\n"
          ]
        }
      ]
    },
    {
      "cell_type": "markdown",
      "source": [
        "16.Create a code to check if a given list is sorted (either in ascending or descending order)\n",
        "or not.\n",
        "\n",
        "Create a code to check if a given list is sorted (either in ascending or descending order) or\n",
        "not.\n"
      ],
      "metadata": {
        "id": "hPfl6Vk7gHq4"
      }
    },
    {
      "cell_type": "code",
      "source": [
        "lis1 = [5, 4, 3, 3, 2, 2, 1, 0]\n",
        "\n",
        "I1 = sorted(lis1, reverse=True)\n",
        "I2 = sorted(lis1)\n",
        "\n",
        "if lis1 == I1 or lis1 == I2 :\n",
        "  print(\"it is sorted\")\n",
        "\n",
        "else:\n",
        "  print(\"it is not sorted\")\n",
        "\n"
      ],
      "metadata": {
        "id": "Rq4xVEIhgLYm",
        "outputId": "bc206104-a988-485f-94bd-5a0bbb8a42df",
        "colab": {
          "base_uri": "https://localhost:8080/"
        }
      },
      "execution_count": 38,
      "outputs": [
        {
          "output_type": "stream",
          "name": "stdout",
          "text": [
            "it is sorted\n"
          ]
        }
      ]
    },
    {
      "cell_type": "markdown",
      "source": [
        "17. Write a code to merge two sorted lists into a single sorted list.\n",
        "\n",
        "print(sorted(lis1 + lis2))\n",
        "\n"
      ],
      "metadata": {
        "id": "F1C5oPfmg08m"
      }
    },
    {
      "cell_type": "code",
      "source": [
        "lis1 = [5, 4, 3, 3, 2, 2, 1, 0]\n",
        "lis2 = [1, 2, 3, 4, 5]\n",
        "print(sorted(lis1 + lis2))"
      ],
      "metadata": {
        "id": "UOq1uVzug1SH",
        "outputId": "c6e94f85-a468-4334-f76a-31f2853c4cd1",
        "colab": {
          "base_uri": "https://localhost:8080/"
        }
      },
      "execution_count": 39,
      "outputs": [
        {
          "output_type": "stream",
          "name": "stdout",
          "text": [
            "[0, 1, 1, 2, 2, 2, 3, 3, 3, 4, 4, 5, 5]\n"
          ]
        }
      ]
    },
    {
      "cell_type": "markdown",
      "source": [
        "18. Implement a code to find the intersection of two given lists.\n",
        "\n"
      ],
      "metadata": {
        "id": "zWNrX777hLq-"
      }
    },
    {
      "cell_type": "code",
      "source": [
        "def intersection(lis1 ,lis2):\n",
        "   print(list(set(lis1).intersection(set(lis2))))\n",
        "\n",
        "lis1 =[0, 1, 2, 3, 4, 5, 6, 3, 2]\n",
        "lis2 = [0, 1, 2, 3, 4, 5, 6, 7, 2, 3, 4, 2]\n",
        "intersection(lis1=lis1, lis2=lis2)"
      ],
      "metadata": {
        "id": "q2Mgs2b1hMC2"
      },
      "execution_count": null,
      "outputs": []
    },
    {
      "cell_type": "markdown",
      "source": [
        "19.Create a code to find the union of two lists without duplicates.\n",
        "\n"
      ],
      "metadata": {
        "id": "jF85AHJMitZn"
      }
    },
    {
      "cell_type": "code",
      "source": [
        "def union(lis1,lis2):\n",
        "\n",
        "    return list(set(lis1).union(set(lis2)))\n",
        "lis1 =[0, 1, 2, 3, 4, 5, 6, 3, 2]\n",
        "lis2 = [0, 1, 2, 3, 4, 5, 6, 7, 2, 3, 4, 2]\n",
        "print(union(lis1 ,lis2))\n",
        "\n"
      ],
      "metadata": {
        "id": "sBQvWjm_its1"
      },
      "execution_count": null,
      "outputs": []
    },
    {
      "cell_type": "markdown",
      "source": [
        "20.Write a code to shuffle a given list randomly without using any built-in shuffle functions\n"
      ],
      "metadata": {
        "id": "hNbNY7WvjKZ3"
      }
    },
    {
      "cell_type": "code",
      "source": [
        "import random\n",
        "\n",
        "lis1 =[0, 1, 2, 3, 4, 5, 6, 3, 2]\n",
        "\n",
        "lis2 =[]\n",
        "\n",
        "for i in lis1:\n",
        "    lis2.append(lis1[random.randint(0,len(lis1)-1)])\n",
        "\n",
        "print(lis2)\n",
        "\n"
      ],
      "metadata": {
        "id": "nckIqrvQjK2a",
        "outputId": "fcf45e6c-6d05-4d76-cd23-45b5c871e307",
        "colab": {
          "base_uri": "https://localhost:8080/"
        }
      },
      "execution_count": 56,
      "outputs": [
        {
          "output_type": "stream",
          "name": "stdout",
          "text": [
            "[1, 5, 4, 5, 2, 4, 4, 4, 5]\n"
          ]
        }
      ]
    },
    {
      "cell_type": "markdown",
      "source": [
        "21.Write a code that takes two tupies as input and returns a new tuple containing elements\n",
        "that are common to both input tuples.\n",
        "\n"
      ],
      "metadata": {
        "id": "0WZaTeP3jcBz"
      }
    },
    {
      "cell_type": "code",
      "source": [
        "def inter(tupl, tupl1):\n",
        "\n",
        "    return tuple(set(tupl).intersection(set(tupl1)))\n",
        "tupl = tuple(input(\"tuple 1:\"))\n",
        "tupl1 = tuple(input(\"tuple 2:\"))\n",
        "\n",
        "print(inter(tupl, tupl1))\n"
      ],
      "metadata": {
        "id": "Gf-z96fmjcUE",
        "outputId": "9f58815a-7ba6-485a-c73f-3f85b9dc18d2",
        "colab": {
          "base_uri": "https://localhost:8080/"
        }
      },
      "execution_count": 59,
      "outputs": [
        {
          "output_type": "stream",
          "name": "stdout",
          "text": [
            "tuple 1:12345\n",
            "tuple 2:12345678\n",
            "('3', '4', '5', '2', '1')\n"
          ]
        }
      ]
    },
    {
      "cell_type": "markdown",
      "source": [
        "22. Create a code that prompts the user to enter two sets of integers separated by commas.\n",
        "Then, print the intersection of these two sets.\n",
        "\n"
      ],
      "metadata": {
        "id": "FORrLbdfjzfk"
      }
    },
    {
      "cell_type": "code",
      "source": [
        "def inter(set1, set2):\n",
        "\n",
        "    return set1.intersection(set2)\n",
        "set3 = set(input(\"set 1:\"))\n",
        "set2 = set(input(\"set 2:\"))\n",
        "print(inter(set1=set3, set2=set2))\n",
        "\n"
      ],
      "metadata": {
        "id": "Y2fFkLumjz0R"
      },
      "execution_count": null,
      "outputs": []
    },
    {
      "cell_type": "markdown",
      "source": [
        "23. Write a code to concatenate two tuples. The function should take two tuples as input and\n",
        "return a new tuple containing elements from both input tuples.\n",
        "\n"
      ],
      "metadata": {
        "id": "m8tMRSqIkZQT"
      }
    },
    {
      "cell_type": "code",
      "source": [
        "tupl1 = tuple(input(\"tuple 1;\"))\n",
        "tupl2 = tuple(input(\"tuple 2:\"))\n",
        "\n",
        "tupl3 = tupl1 + tupl2\n",
        "print(tupl3)\n"
      ],
      "metadata": {
        "id": "a9bEDINilLNh",
        "outputId": "cd8adfa0-b0cd-4c1a-eee4-e957ac8d5018",
        "colab": {
          "base_uri": "https://localhost:8080/"
        }
      },
      "execution_count": 68,
      "outputs": [
        {
          "output_type": "stream",
          "name": "stdout",
          "text": [
            "tuple 1;2323445\n",
            "tuple 2:325435356\n",
            "('2', '3', '2', '3', '4', '4', '5', '3', '2', '5', '4', '3', '5', '3', '5', '6')\n"
          ]
        }
      ]
    },
    {
      "cell_type": "markdown",
      "source": [
        "24.Develop a code that prompts the user to input two sets of strings. Then, print the\n",
        "elements that are present in the first set but not in the second set.\n",
        "\n"
      ],
      "metadata": {
        "id": "d4j5UArTlNHq"
      }
    },
    {
      "cell_type": "code",
      "source": [
        "def diff(set1, set2):\n",
        "\n",
        "    return set.difference(set2)\n",
        "set = set(input(\"set 1:\"))\n",
        "set2 = set(input(\"set 2:\"))\n",
        "\n",
        "print(diff(set1, set2))\n",
        "\n"
      ],
      "metadata": {
        "id": "AIxuRMTblNYV"
      },
      "execution_count": null,
      "outputs": []
    },
    {
      "cell_type": "markdown",
      "source": [
        "25.Create a code that takes a tuple and two integers as input. The function should return a\n",
        "new tuple containing elements from the original tuple within the specified range of indices.\n",
        "\n"
      ],
      "metadata": {
        "id": "HXD8KBgqlp9E"
      }
    },
    {
      "cell_type": "code",
      "source": [
        "tupl1 = tuple(input(\"tuple:\"))\n",
        "start = int(input(\"start index:\"))\n",
        "end = int(input(\"end index; \"))\n",
        "\n",
        "final = tupl1[start:end]\n",
        "print(final)\n",
        "\n"
      ],
      "metadata": {
        "id": "1jtkiwqhlqR4",
        "outputId": "6822110a-87c0-4d4d-e54a-956533cd6ebb",
        "colab": {
          "base_uri": "https://localhost:8080/"
        }
      },
      "execution_count": 72,
      "outputs": [
        {
          "output_type": "stream",
          "name": "stdout",
          "text": [
            "tuple:1234567\n",
            "start index:3\n",
            "end index; 5\n",
            "('4', '5')\n"
          ]
        }
      ]
    },
    {
      "cell_type": "markdown",
      "source": [
        "26. Write a code that prompts the user to input two sets of characters. Then, print the union\n",
        "of these two sets.\n",
        "\n",
        ")"
      ],
      "metadata": {
        "id": "N-jnDZhnl_wp"
      }
    },
    {
      "cell_type": "code",
      "source": [
        "set1 = set(input(\"set 1:\"))\n",
        "set2 = set(input(\"set 2:\"))\n",
        "uni = set1.union(set2)\n",
        "\n",
        "print(uni)\n",
        "\n"
      ],
      "metadata": {
        "id": "FTESdfXWmAEh"
      },
      "execution_count": null,
      "outputs": []
    },
    {
      "cell_type": "markdown",
      "source": [
        "27.Develop a code that takes a tuple of integers as input. The function should return the\n",
        "maximum and minimum values from the tuple using tuple unpacking.\n",
        "\n"
      ],
      "metadata": {
        "id": "NxDOfrH9mRpj"
      }
    },
    {
      "cell_type": "code",
      "source": [
        "tupl1 = tuple(input(\"tuple 1;\"))\n",
        "tupl2 = sorted(tupl1)\n",
        "\n",
        "(mini, maxi) = (tupl2[0], tupl2[-1])\n",
        "print(\"minimum:\", mini)\n",
        "print(\"“maximum:\", maxi)\n",
        "\n"
      ],
      "metadata": {
        "id": "7kNmYYHmmR6e",
        "outputId": "c7f84c25-ddd7-4306-8e22-8358a109d45a",
        "colab": {
          "base_uri": "https://localhost:8080/"
        }
      },
      "execution_count": 74,
      "outputs": [
        {
          "output_type": "stream",
          "name": "stdout",
          "text": [
            "tuple 1;123545\n",
            "minimum: 1\n",
            "“maximum: 5\n"
          ]
        }
      ]
    },
    {
      "cell_type": "markdown",
      "source": [
        "28. Create a code that defines two sets of integers. Then, print the union, intersection, and\n",
        "difference of these two sets.\n"
      ],
      "metadata": {
        "id": "BQuUSjmTmsQF"
      }
    },
    {
      "cell_type": "code",
      "source": [
        "set1 = set(input(\"set 1:\"))\n",
        "set2 = set(input(\"set 2:\"))\n",
        "\n",
        "uni = set1.union(set2)\n",
        "\n",
        "inter = set1.intersection(set2)\n",
        "diff = set1.difference(set2)\n",
        "print(\"union:\", uni)\n",
        "print(\"intersection:\", inter)\n",
        "print(\"difference:\", diff)\n"
      ],
      "metadata": {
        "id": "F5ZTY1NOmsjY"
      },
      "execution_count": null,
      "outputs": []
    },
    {
      "cell_type": "markdown",
      "source": [
        "\n",
        "29.Write a code that takes a tuple and an element as input. The function should return the\n",
        "count of occurrences of the given element in the tuple.\n",
        "\n"
      ],
      "metadata": {
        "id": "QKATv7tdnGB8"
      }
    },
    {
      "cell_type": "code",
      "source": [
        "def co(tupl1, ele):\n",
        "\n",
        "  k = 0\n",
        "\n",
        "  for i in tupl1:\n",
        "\n",
        "      if (i == ele):\n",
        "          k += 1\n",
        "\n",
        "  print(k)\n",
        "tupl1 = tuple(input(\"tuple 1;\"))\n",
        "ele = (input(\"element: \"))\n",
        "\n",
        "co(tupl1, ele)\n"
      ],
      "metadata": {
        "id": "7iiWNuy1nGXb",
        "outputId": "3f93ea60-9fc1-4acc-faa0-bf93ebf57ca3",
        "colab": {
          "base_uri": "https://localhost:8080/"
        }
      },
      "execution_count": 82,
      "outputs": [
        {
          "output_type": "stream",
          "name": "stdout",
          "text": [
            "tuple 1;2345\n",
            "element: 3\n",
            "1\n"
          ]
        }
      ]
    },
    {
      "cell_type": "markdown",
      "source": [
        "\n",
        "30.Develop a code that prompts the user to input two sets of strings. Then, print the\n",
        "symmetric difference of these two sets.\n",
        "\n"
      ],
      "metadata": {
        "id": "uHp_6GPenqas"
      }
    },
    {
      "cell_type": "code",
      "source": [
        "set1 = set(str(input(\"set 1:\")))\n",
        "\n",
        "set2 = set(str(input(\"set 2:\")))\n",
        "\n",
        "uni = set1.symmetric_difference(set2)\n",
        "print(\"symmetric difference is\", uni)"
      ],
      "metadata": {
        "id": "uF30XqKpnqvF"
      },
      "execution_count": null,
      "outputs": []
    },
    {
      "cell_type": "markdown",
      "source": [
        "31. Write a code that takes a list of words as input and returns a dictionary where the keys\n",
        "are unique words and the values are the frequencies of those words in the input list.\n",
        "\n"
      ],
      "metadata": {
        "id": "hMtP-ezYn0EH"
      }
    },
    {
      "cell_type": "code",
      "source": [
        "def dic(lis1):\n",
        "   dic1 = {}\n",
        "   for i in lis1:\n",
        "      k = len(i)\n",
        "      dic1[i] =k\n",
        "   print(dic1)\n",
        "\n",
        "names = [\"Eve\", \"Alice\", \"Bob\"]\n",
        "dic(names)\n"
      ],
      "metadata": {
        "id": "Mya01gBVn0ZD",
        "outputId": "0c2ce8eb-6e7f-4bb2-cd91-f511e7761747",
        "colab": {
          "base_uri": "https://localhost:8080/"
        }
      },
      "execution_count": 85,
      "outputs": [
        {
          "output_type": "stream",
          "name": "stdout",
          "text": [
            "{'Eve': 3, 'Alice': 5, 'Bob': 3}\n"
          ]
        }
      ]
    },
    {
      "cell_type": "markdown",
      "source": [
        "\f32.Write a code that takes two dictionaries as input and merges them into a single dictionary.\n",
        "If there are common keys, the values should be added together.\n",
        "\n"
      ],
      "metadata": {
        "id": "dH71tmGYoU9R"
      }
    },
    {
      "cell_type": "code",
      "source": [
        "def addo(dic1, dic2):\n",
        "  for i in dic2:\n",
        "     dic1.update(dic2)\n",
        "\n",
        "  print(dic1)\n",
        "\n",
        "dic1 = {\n",
        "\"book1\":'hello world!',\n",
        "\"book2\":'happy new year'\n",
        "}\n",
        "\n",
        "dic2 = {\n",
        "\"book3\":'programmer',\n",
        "\"pook1\":'python data'\n",
        "\n",
        "}\n",
        "addo(dic1 ,dic2)\n",
        "\n"
      ],
      "metadata": {
        "id": "ug__saKqoVR0",
        "outputId": "9e776ef9-8b68-4ce8-fdc5-a69678d7fddc",
        "colab": {
          "base_uri": "https://localhost:8080/"
        }
      },
      "execution_count": 91,
      "outputs": [
        {
          "output_type": "stream",
          "name": "stdout",
          "text": [
            "{'book1': 'hello world!', 'book2': 'happy new year', 'book3': 'programmer', 'pook1': 'python data'}\n"
          ]
        }
      ]
    },
    {
      "cell_type": "markdown",
      "source": [
        "33.Write a code to access a value in a nested dictionary. The function should take the\n",
        "dictionary and a list of keys as input, and return the corresponding value. If any of the keys\n",
        "do not exist in the dictionary, the function should return None.\n",
        "\n"
      ],
      "metadata": {
        "id": "bLAwOSwDo-Ps"
      }
    },
    {
      "cell_type": "code",
      "source": [
        "def access_nested_dict(nested_dict, keys):\n",
        "\n",
        "Args:\n",
        "nested_dict (dict): The nested dictionary.\n",
        "keys (list): A list of keys to access the value.\n",
        "\n",
        "value = nested_dict\n",
        "for key in keys:\n",
        "if isinstance(value, dict) and key in value:\n",
        "value = value[key]\n",
        "else:\n",
        "return None\n",
        "return value\n",
        "\n",
        "nested_dict = {'a': {'b': {'c': 1}}}\n",
        "\n",
        "keys = ['a', 'b', 'c']\n",
        "\n",
        "result = access_nested_dict(nested_dict, keys)\n",
        "print(result) # Output: 1\n",
        "nested_dict = {'a’: 1 {'b': {'c': 1}}}\n",
        "\n",
        "keys = ['a', 'b', 'd']\n",
        "\n",
        "result = access_nested_dict(nested_dict, keys)\n",
        "print(result) # Output: None\n",
        "\n"
      ],
      "metadata": {
        "id": "yUdETtWwo-pd"
      },
      "execution_count": null,
      "outputs": []
    },
    {
      "cell_type": "markdown",
      "source": [
        "34.Write a code that takes a dictionary as input and returns a sorted version of it based on\n",
        "the values. You can choose whether to sort in ascending or descending order.\n"
      ],
      "metadata": {
        "id": "A6H6prIKpahY"
      }
    },
    {
      "cell_type": "code",
      "source": [
        "\n",
        "input_dict = {'c’: 3, 'a': 1, 'b': 2}\n",
        "sorted_dict = dict(sorted(input_dict.items()))\n",
        "print(sorted_dict)"
      ],
      "metadata": {
        "id": "IGG0H98Npa0b"
      },
      "execution_count": null,
      "outputs": []
    }
  ]
}