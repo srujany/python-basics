{
  "nbformat": 4,
  "nbformat_minor": 0,
  "metadata": {
    "colab": {
      "provenance": [],
      "authorship_tag": "ABX9TyM0942cKEsBpvxQGIqBsYOj",
      "include_colab_link": true
    },
    "kernelspec": {
      "name": "python3",
      "display_name": "Python 3"
    },
    "language_info": {
      "name": "python"
    }
  },
  "cells": [
    {
      "cell_type": "markdown",
      "metadata": {
        "id": "view-in-github",
        "colab_type": "text"
      },
      "source": [
        "<a href=\"https://colab.research.google.com/github/srujany/python-basics/blob/main/numpy.ipynb\" target=\"_parent\"><img src=\"https://colab.research.google.com/assets/colab-badge.svg\" alt=\"Open In Colab\"/></a>"
      ]
    },
    {
      "cell_type": "markdown",
      "source": [
        "1. Explain the purpose and advantages of NumPy in scientific computing and data analysis. How does enhance Python's capabilities for numerical operations?\n"
      ],
      "metadata": {
        "id": "YfjWFO67_krP"
      }
    },
    {
      "cell_type": "markdown",
      "source": [
        "Purpose of NumPy\n",
        "Array Objects: NumPy provides a powerful N-dimensional array object (ndarray) that allows for efficient storage and manipulation of large datasets.\n",
        "Numerical Computation: It offers a wide range of mathematical functions for performing operations on arrays, including basic arithmetic, linear algebra, statistical analysis, and more.\n",
        "Integration with Other Libraries: NumPy serves as the foundation for many other scientific libraries, such as SciPy, pandas, and Matplotlib, making it a central part of the scientific Python ecosystem.\n",
        "Advantages of NumPy\n",
        "Performance: NumPy is implemented in C and optimized for performance, enabling fast operations on large datasets compared to Python's built-in lists.\n",
        "Memory Efficiency: The ndarray uses contiguous blocks of memory, which reduces overhead and improves memory management compared to standard Python lists.\n",
        "Broadcasting: NumPy supports broadcasting, allowing arithmetic operations to be performed on arrays of different shapes without explicitly resizing them. This simplifies code and enhances performance.\n",
        "Vectorization: It allows for vectorized operations, meaning that operations can be applied to entire arrays without the need for explicit loops. This not only speeds up calculations but also leads to cleaner and more readable code.\n",
        "Rich Functionality: NumPy includes a wide array of mathematical functions, linear algebra routines, random number generation, and tools for Fourier transforms, among others.\n",
        "Interoperability: NumPy arrays can be easily integrated with other libraries, making it easier to perform complex data analysis and scientific computations.\n",
        "Community and Support: As one of the most widely used libraries in the Python ecosystem, NumPy has extensive documentation, a large community, and many resources available for learning and troubleshooting.\n",
        "Enhancements to Python's Numerical Capabilities\n",
        "Array Manipulation: NumPy provides a rich set of functions to manipulate arrays (e.g., reshaping, slicing, indexing) that are much more efficient than using native Python lists.\n",
        "Advanced Data Types: It supports various data types, including complex numbers and structured arrays, which are not natively available in Python.\n",
        "Linear Algebra: Functions for matrix operations (e.g., dot product, eigenvalues) are built-in, making it easier to perform complex mathematical operations that are essential in scientific computing."
      ],
      "metadata": {
        "id": "R_6E8IZQ_mRC"
      }
    },
    {
      "cell_type": "markdown",
      "source": [
        "2. Compare and contrast np.mean() and np.average() functions in NumPy. When would you use ons over the other?\n"
      ],
      "metadata": {
        "id": "2FOPLG9DAQlJ"
      }
    },
    {
      "cell_type": "markdown",
      "source": [
        "Key Differences\n",
        "Weights:\n",
        "\n",
        "np.mean() does not allow for weights; it always computes a simple average.\n",
        "np.average() allows for the inclusion of weights, providing flexibility in calculating the average based on the importance of different elements."
      ],
      "metadata": {
        "id": "g37lxoB0AQzl"
      }
    },
    {
      "cell_type": "markdown",
      "source": [
        "3. Describe the methods for reversing a NumPy array along different axes. Provide examples for ID and 2D arrays\n"
      ],
      "metadata": {
        "id": "mj0jrO5XA3mi"
      }
    },
    {
      "cell_type": "code",
      "source": [
        "import numpy as np\n",
        "\n",
        "arr = np.array([1, 2, 3,4, 5, 6])\n",
        "\n",
        "reversed_arr = np.flip(arr)\n",
        "print(reversed_arr)\n",
        "\n",
        "\n",
        "arr_2d = np.array([[1, 2, 3],\n",
        "                   [4, 5, 6],\n",
        "                   [7, 8, 9]])\n",
        "\n",
        "reversed_rows = np.flip(arr_2d)\n",
        "\n",
        "print(reversed_rows)\n",
        "\n"
      ],
      "metadata": {
        "colab": {
          "base_uri": "https://localhost:8080/"
        },
        "id": "gnK9-0wOBGpo",
        "outputId": "2260356e-5638-4a80-9ddb-d2b2e64f2e62"
      },
      "execution_count": 2,
      "outputs": [
        {
          "output_type": "stream",
          "name": "stdout",
          "text": [
            "[6 5 4 3 2 1]\n",
            "[[9 8 7]\n",
            " [6 5 4]\n",
            " [3 2 1]]\n"
          ]
        }
      ]
    },
    {
      "cell_type": "markdown",
      "source": [
        "4. How can you determine the data type of elements in a NumPy array? Discuss the importance of data types in memory management and performance\n"
      ],
      "metadata": {
        "id": "d87AF_1HBxKj"
      }
    },
    {
      "cell_type": "code",
      "source": [
        "import numpy as np\n",
        "\n",
        "\n",
        "arr = np.array([1, 2, 3, 4])\n",
        "print(arr.dtype)\n",
        "\n",
        "\n",
        "arr_float = np.array([1.0, 2.0, 3.0])\n",
        "print(arr_float.dtype)\n"
      ],
      "metadata": {
        "colab": {
          "base_uri": "https://localhost:8080/"
        },
        "id": "ZjgxGaRaB9K_",
        "outputId": "9e9b82e2-9491-4f1e-86f8-39dad01715c3"
      },
      "execution_count": 3,
      "outputs": [
        {
          "output_type": "stream",
          "name": "stdout",
          "text": [
            "int64\n",
            "float64\n"
          ]
        }
      ]
    },
    {
      "cell_type": "markdown",
      "source": [
        "Importance of Data Types\n",
        "Memory Management:\n",
        "\n",
        "Size: Different data types consume different amounts of memory. For instance, an int32 type takes 4 bytes, while int64 takes 8 bytes. Choosing the right data type can significantly affect the memory footprint of your application, especially when dealing with large datasets.\n",
        "Optimization: By selecting appropriate data types, you can minimize memory usage. For example, if you know that your data will always fit within the range of int8, using this type instead of int64 can save considerable memory.\n",
        "Performance:\n",
        "\n",
        "Speed of Computations: Operations on smaller data types can be faster due to lower memory bandwidth usage and better cache utilization. For example, computations using float32 may be faster than using float64 in certain scenarios.\n",
        "Vectorized Operations: NumPy is optimized for operations on arrays of the same data type. Using homogeneous data types allows NumPy to leverage efficient underlying libraries, resulting in faster computations.\n",
        "Type-Safety:\n",
        "\n",
        "Ensuring that the data type matches the intended use (e.g., integers for counting, floats for measurements) helps prevent errors and improves code readability.\n",
        "Interoperability:\n",
        "\n",
        "When interfacing with other libraries (e.g., SciPy, pandas, or C libraries), having the correct data type ensures compatibility and proper functioning of your code."
      ],
      "metadata": {
        "id": "ErYxk48rCE3U"
      }
    },
    {
      "cell_type": "markdown",
      "source": [
        "5. Define ndorrays in NumPy and explain their key features. How do they differ fram standard Python lists?\n"
      ],
      "metadata": {
        "id": "ZhzRCoL0CQF6"
      }
    },
    {
      "cell_type": "markdown",
      "source": [
        "Key Features of ndarrays\n",
        "Homogeneous Data:\n",
        "\n",
        "All elements in an ndarray are of the same data type, which can be specified at the time of creation. This homogeneity allows for efficient memory storage and faster computation.\n",
        "N-Dimensional:\n",
        "\n",
        "ndarrays can have any number of dimensions (1D, 2D, 3D, etc.). The shape of the array is defined by its dimensions, allowing for complex data structures like matrices, tensors, and higher-dimensional arrays.\n",
        "Efficient Memory Management:\n",
        "\n",
        "NumPy arrays use contiguous blocks of memory, which reduces overhead and improves performance, especially for large datasets. This contrasts with standard Python lists, which can have elements stored in non-contiguous memory locations.\n",
        "Broadcasting:\n",
        "\n",
        "ndarrays support broadcasting, a powerful mechanism that allows operations on arrays of different shapes without needing explicit replication of data. This leads to more concise and readable code.\n",
        "Vectorized Operations:\n",
        "\n",
        "NumPy allows for vectorized operations, meaning you can apply mathematical operations to entire arrays without writing explicit loops. This significantly speeds up calculations and leads to cleaner code.\n",
        "Rich Functionality:\n",
        "\n",
        "NumPy provides a wide array of mathematical functions, linear algebra operations, and statistical tools that are optimized for ndarrays, enhancing their usability for scientific computing.\n",
        "Interoperability:\n",
        "\n",
        "ndarrays can easily interface with other libraries, such as SciPy and pandas, making them integral to the scientific Python ecosystem.\n",
        "Differences from Standard Python Lists\n",
        "Data Type Homogeneity:\n",
        "\n",
        "ndarrays: All elements must be of the same type.\n",
        "Python Lists: Can contain elements of different types (e.g., integers, floats, strings).\n",
        "Performance:\n",
        "\n",
        "ndarrays: More efficient for numerical computations due to their optimized performance and memory usage.\n",
        "Python Lists: Slower for numerical operations, especially when handling large datasets.\n",
        "Dimensionality:\n",
        "\n",
        "ndarrays: Can easily represent multi-dimensional data (2D matrices, 3D tensors, etc.).\n",
        "Python Lists: Can also represent multi-dimensional data, but it's less straightforward and often involves nesting lists, which can lead to inefficiencies and more complex code.\n",
        "Functionality:\n",
        "\n",
        "ndarrays: Equipped with a comprehensive set of mathematical functions and methods specifically designed for numerical operations.\n",
        "Python Lists: Limited in terms of built-in mathematical functions; operations usually require iteration or list comprehensions.\n",
        "Memory Layout:\n",
        "\n",
        "ndarrays: Store data in a contiguous block of memory, which is better for performance.\n",
        "Python Lists: Store references to objects, which can lead to higher memory overhead and fragmentation."
      ],
      "metadata": {
        "id": "wiurhHPqCYiv"
      }
    },
    {
      "cell_type": "markdown",
      "source": [
        "6. Analyze the performance benefits of NumPy arrays over Python lists for large-scale numerical operations\n"
      ],
      "metadata": {
        "id": "FwYG-bkODCrL"
      }
    },
    {
      "cell_type": "markdown",
      "source": [
        "1. Memory Efficiency\n",
        "Contiguous Memory Allocation: NumPy arrays are stored in contiguous blocks of memory, which reduces overhead and fragmentation. This layout allows for better cache utilization, leading to faster access times compared to Python lists, which store references to objects scattered in memory.\n",
        "Homogeneous Data Types: NumPy arrays require all elements to be of the same type, which enables more efficient memory usage. Python lists can contain mixed types, resulting in additional overhead for type management.\n",
        "2. Performance in Numerical Computations\n",
        "Vectorization: NumPy allows for vectorized operations, meaning that operations can be applied to entire arrays at once without explicit loops. This leverages underlying optimized C and Fortran libraries, resulting in significantly faster computations. For example, adding two arrays element-wise is much faster with NumPy than with a Python loop."
      ],
      "metadata": {
        "id": "rDVrmS5BDC6O"
      }
    },
    {
      "cell_type": "code",
      "source": [
        "import numpy as np\n",
        "import time\n",
        "\n",
        "# Using NumPy\n",
        "arr1 = np.random.rand(10**6)\n",
        "arr2 = np.random.rand(10**6)\n",
        "\n",
        "start_time = time.time()\n",
        "result_np = arr1 + arr2\n",
        "print(\"NumPy time:\", time.time() - start_time)\n",
        "\n",
        "# Using Python lists\n",
        "list1 = arr1.tolist()\n",
        "list2 = arr2.tolist()\n",
        "\n",
        "start_time = time.time()\n",
        "result_list = [x + y for x, y in zip(list1, list2)]\n",
        "print(\"Python list time:\", time.time() - start_time)\n"
      ],
      "metadata": {
        "id": "v7pKz8V9Dbw2"
      },
      "execution_count": null,
      "outputs": []
    },
    {
      "cell_type": "markdown",
      "source": [
        "7. Compare vstack() and hstack() functions in Numlly Provice examples demonstrating their usage and output\n"
      ],
      "metadata": {
        "id": "9sE8wm7EDlIl"
      }
    },
    {
      "cell_type": "markdown",
      "source": [
        "vstack()\n",
        "Purpose: Stacks arrays vertically (row-wise). This means it adds arrays as new rows.\n",
        "Input: Can take a tuple or a list of arrays that have the same shape along all but the first axis."
      ],
      "metadata": {
        "id": "6IDZS7PeDxMD"
      }
    },
    {
      "cell_type": "code",
      "source": [
        "import numpy as np\n",
        "\n",
        "# Creating two 1D arrays\n",
        "arr1 = np.array([1, 2, 3])\n",
        "arr2 = np.array([4, 5, 6])\n",
        "\n",
        "# Stacking vertically\n",
        "result_vstack = np.vstack((arr1, arr2))\n",
        "\n",
        "print(\"Result of vstack:\")\n",
        "print(result_vstack)\n"
      ],
      "metadata": {
        "id": "RzrhcL0xEQda"
      },
      "execution_count": null,
      "outputs": []
    },
    {
      "cell_type": "markdown",
      "source": [
        "hstack()\n",
        "Purpose: Stacks arrays horizontally (column-wise). This means it adds arrays as new columns.\n",
        "Input: Can also take a tuple or a list of arrays that have the same shape along all but the second axis."
      ],
      "metadata": {
        "id": "voGCL5JWERPA"
      }
    },
    {
      "cell_type": "code",
      "source": [
        "import numpy as np\n",
        "\n",
        "# Creating two 1D arrays\n",
        "arr1 = np.array([1, 2, 3])\n",
        "arr2 = np.array([4, 5, 6])\n",
        "\n",
        "# Stacking horizontally\n",
        "result_hstack = np.hstack((arr1, arr2))\n",
        "\n",
        "print(\"Result of hstack:\")\n",
        "print(result_hstack)\n"
      ],
      "metadata": {
        "id": "gzJMP5LCEVcB"
      },
      "execution_count": null,
      "outputs": []
    },
    {
      "cell_type": "markdown",
      "source": [
        "8. Explain the differences between flipir() and flipud() methods in NumPy, including their effects on various array dimensions\n",
        "\n"
      ],
      "metadata": {
        "id": "pkfjwcUEEkSp"
      }
    },
    {
      "cell_type": "markdown",
      "source": [
        "Differences\n",
        "Axis of Flipping:\n",
        "\n",
        "flipud(): Flips the array along the vertical axis (up and down).\n",
        "fliplr(): Flips the array along the horizontal axis (left and right).\n",
        "Dimensional Effects:\n",
        "\n",
        "Both functions primarily operate on 2D arrays, but they can also be applied to higher-dimensional arrays by flattening the relevant axes:\n",
        "For 1D Arrays: Both functions will have no effect, as there's no second axis to flip.\n",
        "For 3D Arrays: flipud() will flip along the first axis (depth-wise), and fliplr() will flip along the second axis (width-wise).\n",
        "For N-D Arrays: They affect only the specified axes and leave other axes unchanged."
      ],
      "metadata": {
        "id": "NH0tolgTEp2p"
      }
    },
    {
      "cell_type": "code",
      "source": [
        "arr_3d = np.array([[[ 1,  2,  3],\n",
        "                    [ 4,  5,  6]],\n",
        "\n",
        "                   [[ 7,  8,  9],\n",
        "                    [10, 11, 12]]])\n",
        "\n",
        "flipped_ud_3d = np.flipud(arr_3d)\n",
        "flipped_lr_3d = np.fliplr(arr_3d)\n",
        "\n",
        "print(\"Original 3D array:\")\n",
        "print(arr_3d)\n",
        "\n",
        "print(\"Flipped upside down (flipud) on 3D:\")\n",
        "print(flipped_ud_3d)\n",
        "\n",
        "print(\"Flipped left to right (fliplr) on 3D:\")\n",
        "print(flipped_lr_3d)\n"
      ],
      "metadata": {
        "id": "Yp1ztLKtE-u7"
      },
      "execution_count": null,
      "outputs": []
    },
    {
      "cell_type": "markdown",
      "source": [
        "9. Discuss the functionality of the array_split() method in NumPy How does it handle uneven splits\n"
      ],
      "metadata": {
        "id": "mrGcaUPAFD4n"
      }
    },
    {
      "cell_type": "markdown",
      "source": [
        "Functionality of array_split()\n",
        "Basic Usage: The array_split() function allows you to specify the number of splits you want to create from the original array.\n",
        "Syntax: numpy.array_split(ary, indices_or_sections, axis=0)\n",
        "ary: The input array to be split.\n",
        "indices_or_sections: This can be an integer (specifying the number of equal parts to split the array into) or an array of indices at which to split the array.\n",
        "axis: The axis along which to split the array. The default is 0 (vertical split)."
      ],
      "metadata": {
        "id": "Nr_itfCLFU-u"
      }
    },
    {
      "cell_type": "code",
      "source": [
        "import numpy as np\n",
        "\n",
        "# Create a 1D array\n",
        "arr = np.array([1, 2, 3, 4, 5, 6])\n",
        "\n",
        "# Split the array into 3 equal parts\n",
        "result = np.array_split(arr, 3)\n",
        "\n",
        "print(\"Split result (3 equal parts):\")\n",
        "for sub_array in result:\n",
        "    print(sub_array)\n"
      ],
      "metadata": {
        "id": "1Bm-rjuSF0oP"
      },
      "execution_count": null,
      "outputs": []
    },
    {
      "cell_type": "markdown",
      "source": [
        "10. Explain the concepts of vectorization and broadcasting in NumPy. How do they contribute to efficient array operations?"
      ],
      "metadata": {
        "id": "PyruftlxF_WS"
      }
    },
    {
      "cell_type": "markdown",
      "source": [
        "Vectorization\n",
        "Definition: Vectorization refers to the ability to perform operations on entire arrays (or large chunks of data) at once, rather than using explicit loops. This is made possible by NumPy's underlying implementation in C and Fortran, which allows for optimized computations on arrays.\n",
        "\n",
        "Benefits:\n",
        "\n",
        "Speed: Vectorized operations are much faster than iterating through elements with Python loops. This is because NumPy applies optimizations at a low level and can take advantage of CPU capabilities (like SIMD - Single Instruction, Multiple Data).\n",
        "Conciseness: Vectorized code is generally more concise and readable than equivalent loop-based code. This improves code maintainability."
      ],
      "metadata": {
        "id": "srrhn7H1GOAS"
      }
    },
    {
      "cell_type": "code",
      "source": [
        "import numpy as np\n",
        "\n",
        "# Creating a 2D array\n",
        "arr_2d = np.array([[1, 2, 3],\n",
        "                   [4, 5, 6]])\n",
        "\n",
        "# Creating a 1D array\n",
        "arr_1d = np.array([10, 20, 30])\n",
        "\n",
        "# Broadcasting: adding a 1D array to a 2D array\n",
        "result = arr_2d + arr_1d\n",
        "\n",
        "print(\"Result of broadcasting:\")\n",
        "print(result)\n"
      ],
      "metadata": {
        "id": "vksvcEqHGbAc"
      },
      "execution_count": null,
      "outputs": []
    },
    {
      "cell_type": "markdown",
      "source": [
        "1. Create a 3x3 NumPy array with random integers between 1 and 100. Then, interchange its rows and columns\n"
      ],
      "metadata": {
        "id": "FTW75IYtGecC"
      }
    },
    {
      "cell_type": "code",
      "source": [
        "import numpy as np\n",
        "\n",
        "arr = np.random.randint(1,101, size = (3,3))\n",
        "\n",
        "print(\"original array\", arr)\n",
        "arr_t = arr.T\n",
        "\n",
        "print(\"transposed array\", arr_t)\n",
        "\n"
      ],
      "metadata": {
        "colab": {
          "base_uri": "https://localhost:8080/"
        },
        "id": "LVb6pO9bHFFg",
        "outputId": "38d477e0-fb7c-4e24-abd9-adc280e2a0fa"
      },
      "execution_count": 4,
      "outputs": [
        {
          "output_type": "stream",
          "name": "stdout",
          "text": [
            "original array [[35 87 58]\n",
            " [18 64 54]\n",
            " [28 48 12]]\n",
            "transposed array [[35 18 28]\n",
            " [87 64 48]\n",
            " [58 54 12]]\n"
          ]
        }
      ]
    },
    {
      "cell_type": "markdown",
      "source": [
        "2. Generate a ID NumPy array with 10 elements. Reshape it into a 2x5 array, then into a 5x2 απαγ\n",
        "\n"
      ],
      "metadata": {
        "id": "EAHA8oVvH2xi"
      }
    },
    {
      "cell_type": "code",
      "source": [
        "import numpy as np\n",
        "\n",
        "arr = np.arange(10)\n",
        "print(\"original array\",arr)\n",
        "\n",
        "arr_2 = np.reshape(arr, (2,5))\n",
        "print(\"(2,5)\",arr_2)\n",
        "\n",
        "arr_3 = np.reshape(arr,(5,2))\n",
        "print(\"(5,2)\",arr_3)\n",
        "\n",
        "\n"
      ],
      "metadata": {
        "colab": {
          "base_uri": "https://localhost:8080/"
        },
        "id": "oFxXzgEKH-g0",
        "outputId": "c88aebea-030a-469f-fabc-ca9f336571b3"
      },
      "execution_count": 8,
      "outputs": [
        {
          "output_type": "stream",
          "name": "stdout",
          "text": [
            "original array [0 1 2 3 4 5 6 7 8 9]\n",
            "(2,5) [[0 1 2 3 4]\n",
            " [5 6 7 8 9]]\n",
            "(5,2) [[0 1]\n",
            " [2 3]\n",
            " [4 5]\n",
            " [6 7]\n",
            " [8 9]]\n"
          ]
        }
      ]
    },
    {
      "cell_type": "markdown",
      "source": [
        "3. Create a 4x4 NumPy array with random float values. Add a border of zeros around it, resulting in a Bir aray\n"
      ],
      "metadata": {
        "id": "Ko0iRsbGJw91"
      }
    },
    {
      "cell_type": "code",
      "source": [
        "import numpy as np\n",
        "\n",
        "arr = np.random.rand(4,4)\n",
        "\n",
        "\n",
        "print(arr)\n",
        "\n",
        "bordered_array = np.pad(arr, pad_width=1, mode='constant', constant_values=0)\n",
        "\n",
        "print(bordered_array)"
      ],
      "metadata": {
        "colab": {
          "base_uri": "https://localhost:8080/"
        },
        "id": "yPcGu0iqJxOa",
        "outputId": "e6bb7a20-c503-4307-d855-50cf59809b61"
      },
      "execution_count": 12,
      "outputs": [
        {
          "output_type": "stream",
          "name": "stdout",
          "text": [
            "[[0.72125399 0.55662169 0.34265928 0.34439092]\n",
            " [0.45174409 0.24378996 0.92147242 0.32800344]\n",
            " [0.44815046 0.01724198 0.88129956 0.75232135]\n",
            " [0.84664298 0.3985263  0.50951072 0.31776242]]\n",
            "[[0.         0.         0.         0.         0.         0.        ]\n",
            " [0.         0.72125399 0.55662169 0.34265928 0.34439092 0.        ]\n",
            " [0.         0.45174409 0.24378996 0.92147242 0.32800344 0.        ]\n",
            " [0.         0.44815046 0.01724198 0.88129956 0.75232135 0.        ]\n",
            " [0.         0.84664298 0.3985263  0.50951072 0.31776242 0.        ]\n",
            " [0.         0.         0.         0.         0.         0.        ]]\n"
          ]
        }
      ]
    },
    {
      "cell_type": "markdown",
      "source": [
        "4. Using NumPy, create an array of integers from 10 to 60 with a step of 5.\n",
        "\n"
      ],
      "metadata": {
        "id": "JGiZaWqBLE99"
      }
    },
    {
      "cell_type": "code",
      "source": [
        "import numpy as np\n",
        "arr = np.arange(10,60,5)\n",
        "print(arr)"
      ],
      "metadata": {
        "colab": {
          "base_uri": "https://localhost:8080/"
        },
        "id": "HIJvgy2uLLms",
        "outputId": "2ae5b286-b5df-490b-d565-b637b85ed007"
      },
      "execution_count": 14,
      "outputs": [
        {
          "output_type": "stream",
          "name": "stdout",
          "text": [
            "[10 15 20 25 30 35 40 45 50 55]\n"
          ]
        }
      ]
    },
    {
      "cell_type": "markdown",
      "source": [
        "5. Create a NumPy array of strings [python, numpy, pandas. Apply different case transformations (uppercase, lowercase, title case, etc.) to each element.\n"
      ],
      "metadata": {
        "id": "eLir1MbvLfKC"
      }
    },
    {
      "cell_type": "code",
      "source": [
        "import numpy as np\n",
        "arr = np.array(['python', 'numpy', 'pandas'])\n",
        "\n",
        "upper = np.char.upper(arr)\n",
        "lower = np.char.lower(arr)\n",
        "title = np.char.title(arr)\n",
        "capitalize_arr = np.char.capitalize(arr)\n",
        "\n",
        "print(\"upper\",upper)\n",
        "print(\"lower\",lower)\n",
        "print(\"title\",title)\n",
        "print(\"capitalize\",capitalize_arr)"
      ],
      "metadata": {
        "colab": {
          "base_uri": "https://localhost:8080/"
        },
        "id": "1UjC7SUILnrc",
        "outputId": "8d49d122-a96a-4b2a-e4f3-0eedda6c33a3"
      },
      "execution_count": 15,
      "outputs": [
        {
          "output_type": "stream",
          "name": "stdout",
          "text": [
            "upper ['PYTHON' 'NUMPY' 'PANDAS']\n",
            "lower ['python' 'numpy' 'pandas']\n",
            "title ['Python' 'Numpy' 'Pandas']\n",
            "capitalize ['Python' 'Numpy' 'Pandas']\n"
          ]
        }
      ]
    },
    {
      "cell_type": "markdown",
      "source": [
        "6. Generate a NumPy array of words insert a space between each character of every word in the array\n",
        "\n"
      ],
      "metadata": {
        "id": "1jjBswEKMfwX"
      }
    },
    {
      "cell_type": "code",
      "source": [
        "import numpy as np\n",
        "\n",
        "# Create a NumPy array of words\n",
        "words = np.array(['hello', 'world', 'numpy', 'python'])\n",
        "\n",
        "# Insert a space between each character of every word\n",
        "spaced_words = np.char.join(' ', words)\n",
        "\n",
        "# Print the original and the modified arrays\n",
        "print(\"Original array:\")\n",
        "print(words)\n",
        "\n",
        "print(\"\\nArray with spaces between characters:\")\n",
        "for word in spaced_words:\n",
        "    print(word)\n"
      ],
      "metadata": {
        "id": "5Tj55SHpMg20"
      },
      "execution_count": null,
      "outputs": []
    },
    {
      "cell_type": "markdown",
      "source": [
        "7. Create two 20 NurnPy arrays and perform element wise addition, subtraction, multiplication, and division\n"
      ],
      "metadata": {
        "id": "srXDuyZRM5l1"
      }
    },
    {
      "cell_type": "code",
      "source": [
        "import numpy as np\n",
        "\n",
        "arr1 = np.random.randint(1,20,size = 20)\n",
        "arr2 = np.random.randint(1,20,size = 20)\n",
        "\n",
        "add = np.add(arr1,arr2)\n",
        "sub = np.subtract(arr1,arr2)\n",
        "mul = np.multiply(arr1,arr2)\n",
        "div = np.divide(arr1,arr2)\n",
        "\n",
        "print(\"add\",add)\n",
        "print(\"sub\",sub)\n",
        "print(\"mul\",mul)\n",
        "print(\"div\",div)"
      ],
      "metadata": {
        "colab": {
          "base_uri": "https://localhost:8080/"
        },
        "id": "w4xc_M4ENAyu",
        "outputId": "047cf157-03eb-4d7c-a27f-d9e2cc84286f"
      },
      "execution_count": 16,
      "outputs": [
        {
          "output_type": "stream",
          "name": "stdout",
          "text": [
            "add [18 12 25 18 10 20 27 15 24 19 11 11 33 15 12 20 18 28 13 13]\n",
            "sub [  6  10   1   4  -2  14   5   9  -6   9   7   5  -5  -1 -10 -10  -4   2\n",
            "  -9 -11]\n",
            "mul [ 72  11 156  77  24  51 176  36 135  70  18  24 266  56  11  75  77 195\n",
            "  22  12]\n",
            "div [ 2.         11.          1.08333333  1.57142857  0.66666667  5.66666667\n",
            "  1.45454545  4.          0.6         2.8         4.5         2.66666667\n",
            "  0.73684211  0.875       0.09090909  0.33333333  0.63636364  1.15384615\n",
            "  0.18181818  0.08333333]\n"
          ]
        }
      ]
    },
    {
      "cell_type": "markdown",
      "source": [
        "8. Use fiumPy to create a 5x5 identity matrix, then extract its diagonal elements\n"
      ],
      "metadata": {
        "id": "r-d3tktJOLwG"
      }
    },
    {
      "cell_type": "code",
      "source": [
        "# prompt: 8. Use fiumPy to create a 5x5 identity matrix, then extract its diagonal elements\n",
        "\n",
        "import numpy as np\n",
        "\n",
        "# Create a 5x5 identity matrix\n",
        "identity_matrix = np.eye(5)\n",
        "\n",
        "# Extract the diagonal elements\n",
        "diagonal_elements = np.diag(identity_matrix)\n",
        "\n",
        "print(\"5x5 Identity Matrix:\")\n",
        "print(identity_matrix)\n",
        "print(\"\\nDiagonal Elements:\")\n",
        "print(diagonal_elements)"
      ],
      "metadata": {
        "id": "uG599IUAOXer"
      },
      "execution_count": null,
      "outputs": []
    },
    {
      "cell_type": "markdown",
      "source": [
        "9. Generate a NumPy array of 100 random integers between 0 and 1000. Find and display all prime numbers this array\n"
      ],
      "metadata": {
        "id": "8fDxQANeOrj_"
      }
    },
    {
      "cell_type": "code",
      "source": [
        "\n",
        "\n",
        "import numpy as np\n",
        "\n",
        "def is_prime(n):\n",
        "  if n <= 1:\n",
        "    return False\n",
        "  for i in range(2, int(n**0.5) + 1):\n",
        "    if n % i == 0:\n",
        "      return False\n",
        "  return True\n",
        "\n",
        "\n",
        "random_integers = np.random.randint(0, 1001, size=100)\n",
        "\n",
        "\n",
        "prime_numbers = [num for num in random_integers if is_prime(num)]\n",
        "\n",
        "print(\"Random Integers:\", random_integers)\n",
        "print(\"\\nPrime Numbers:\", prime_numbers)"
      ],
      "metadata": {
        "colab": {
          "base_uri": "https://localhost:8080/"
        },
        "id": "fPWa8OM6Or6O",
        "outputId": "0161c268-49cf-4b87-fb39-47a8be27c532"
      },
      "execution_count": 17,
      "outputs": [
        {
          "output_type": "stream",
          "name": "stdout",
          "text": [
            "Random Integers: [921 423 220 790 486 205 842 842 947 156 888 482 457 279 962 874 240 201\n",
            " 512 379 775 653 350 674 999 603 178 709 524 542 392 623 504 273 346 586\n",
            " 273 234 565 380 409 863 402 294 858 716 942 121 824 145 917 911 829 518\n",
            " 494 873 984 211 169 283 600 124 584 807 171 630  13 527 641 219 299 155\n",
            " 562 423 405 987 201 567 281 245 773 736 884 264 460 623 189 837 905 369\n",
            " 507 270 389  50 890 212 375 192 778   4]\n",
            "\n",
            "Prime Numbers: [947, 457, 379, 653, 709, 409, 863, 911, 829, 211, 283, 13, 641, 281, 773, 389]\n"
          ]
        }
      ]
    },
    {
      "cell_type": "markdown",
      "source": [
        "10. Create a umily analy representing daily temperatures for a month Calculate and display the w averages"
      ],
      "metadata": {
        "id": "CZIVcsIkPL_a"
      }
    },
    {
      "cell_type": "code",
      "source": [
        "# prompt: 10. Create a umily analy representing daily temperatures for a month Calculate and display the w averages\n",
        "\n",
        "import numpy as np\n",
        "\n",
        "\n",
        "daily_temperatures = np.random.randint(15, 35, size=30)\n",
        "\n",
        "\n",
        "weekly_averages = []\n",
        "for i in range(0, 30, 7):\n",
        "    week_temps = daily_temperatures[i:min(i + 7, 30)]\n",
        "    weekly_average = np.mean(week_temps)\n",
        "    weekly_averages.append(weekly_average)\n",
        "\n",
        "\n",
        "print(\"Daily Temperatures:\", daily_temperatures)\n",
        "print(\"\\nWeekly Averages:\")\n",
        "for i, avg in enumerate(weekly_averages):\n",
        "    print(f\"Week {i+1}: {avg:.2f} degrees Celsius\")"
      ],
      "metadata": {
        "colab": {
          "base_uri": "https://localhost:8080/"
        },
        "id": "ebGa0LSMPMSR",
        "outputId": "ccbfe83a-1b63-4a32-93f3-25edcf41b85d"
      },
      "execution_count": 18,
      "outputs": [
        {
          "output_type": "stream",
          "name": "stdout",
          "text": [
            "Daily Temperatures: [20 33 23 21 21 21 29 33 25 22 24 18 25 32 26 20 17 27 26 27 30 15 24 27\n",
            " 26 31 34 26 34 34]\n",
            "\n",
            "Weekly Averages:\n",
            "Week 1: 24.00 degrees Celsius\n",
            "Week 2: 25.57 degrees Celsius\n",
            "Week 3: 24.71 degrees Celsius\n",
            "Week 4: 26.14 degrees Celsius\n",
            "Week 5: 34.00 degrees Celsius\n"
          ]
        }
      ]
    },
    {
      "cell_type": "markdown",
      "source": [],
      "metadata": {
        "id": "lvZFcKthO3gc"
      }
    }
  ]
}