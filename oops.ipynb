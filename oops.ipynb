{
  "nbformat": 4,
  "nbformat_minor": 0,
  "metadata": {
    "colab": {
      "provenance": [],
      "authorship_tag": "ABX9TyPxvVC4qVMJLSOlkNoLtdsy",
      "include_colab_link": true
    },
    "kernelspec": {
      "name": "python3",
      "display_name": "Python 3"
    },
    "language_info": {
      "name": "python"
    }
  },
  "cells": [
    {
      "cell_type": "markdown",
      "metadata": {
        "id": "view-in-github",
        "colab_type": "text"
      },
      "source": [
        "<a href=\"https://colab.research.google.com/github/srujany/python-basics/blob/main/oops.ipynb\" target=\"_parent\"><img src=\"https://colab.research.google.com/assets/colab-badge.svg\" alt=\"Open In Colab\"/></a>"
      ]
    },
    {
      "cell_type": "markdown",
      "source": [
        "1. What are the five key concepts of Object-Oriented Programming (OOP)?\n"
      ],
      "metadata": {
        "id": "_8gpu2oSugSh"
      }
    },
    {
      "cell_type": "markdown",
      "source": [
        "Abstraction: Focusing on essential features and hiding non-essential details, allowing for a simplified representation of complex systems.\n",
        "Encapsulation: Hiding an object’s internal state and behavior, while exposing only necessary information through public methods, promoting data hiding and code reuse.\n",
        "Inheritance: Creating a new class that inherits properties and behavior from an existing class, enabling code reuse and a hierarchical organization of classes.\n",
        "Polymorphism: The ability of an object to take on multiple forms, depending on the context, such as method overriding or method overloading, allowing for more flexibility and generic code.\n",
        "Note: Some sources may group these concepts together as a single concept, “Object-Oriented Programming Principles,” but the above list represents the most commonly cited individual concepts."
      ],
      "metadata": {
        "id": "vPXv6MQ5uvp0"
      }
    },
    {
      "cell_type": "markdown",
      "source": [
        "2. Write a Python class for a 'Car' with attributes for \"make\", \"model, and \"year\", Include a method to display the car's information.\n",
        "\n"
      ],
      "metadata": {
        "id": "G0UxwXqUuxUu"
      }
    },
    {
      "cell_type": "code",
      "source": [
        "class car:\n",
        "  def __init__(self,make,model,year):\n",
        "    self.make = make\n",
        "    self.model = model\n",
        "    self.year = year\n",
        "  def display_car_details(self):\n",
        "    print(\"make\",self.make)\n",
        "    print(\"model\",self.model)\n",
        "    print(\"year\", self.year)\n",
        "\n",
        "\n",
        "obj1 = car(\"maruthi\",21,2024)\n",
        "obj1.display_car_details()\n"
      ],
      "metadata": {
        "colab": {
          "base_uri": "https://localhost:8080/"
        },
        "id": "nl3fyUGzvL3J",
        "outputId": "f074f2e1-eb63-4b44-9379-bbf0bce3f383"
      },
      "execution_count": 3,
      "outputs": [
        {
          "output_type": "stream",
          "name": "stdout",
          "text": [
            "make maruthi\n",
            "model 21\n",
            "year 2024\n"
          ]
        }
      ]
    },
    {
      "cell_type": "markdown",
      "source": [
        "3. Explain the difference between instance methods and class methods. Provide an example of each.\n"
      ],
      "metadata": {
        "id": "-wYtfyhgw8I5"
      }
    },
    {
      "cell_type": "markdown",
      "source": [
        "Instance Methods\n",
        "Definition: Instance methods are functions that operate on instances of a class. They take at least one parameter, typically named self, which refers to the instance calling the method. Instance methods can access and modify the instance’s attributes.\n",
        "\n",
        "Class Methods\n",
        "Definition: Class methods are functions that operate on the class itself rather than on instances of the class. They take a parameter usually named cls, which refers to the class. Class methods are defined using the @classmethod decorator."
      ],
      "metadata": {
        "id": "PziKi0zheAO-"
      }
    },
    {
      "cell_type": "code",
      "source": [
        "class Dog:\n",
        "    def __init__(self, name):\n",
        "        self.name = name\n",
        "\n",
        "    def bark(self):\n",
        "        return f\"{self.name} says Woof!\"\n",
        "\n",
        "# Create an instance of Dog\n",
        "my_dog = Dog(\"Buddy\")\n",
        "print(my_dog.bark())  # Output: Buddy says Woof!\n",
        "\n",
        "\n",
        "class Dog:\n",
        "    species = \"Canine\"  # Class attribute\n",
        "\n",
        "    def __init__(self, name):\n",
        "        self.name = name\n",
        "\n",
        "    @classmethod\n",
        "    def get_species(cls):\n",
        "        return cls.species\n",
        "\n",
        "# Call the class method\n",
        "print(Dog.get_species())  # Output: Canine\n"
      ],
      "metadata": {
        "id": "8hJHGaLLeA3Z"
      },
      "execution_count": null,
      "outputs": []
    },
    {
      "cell_type": "markdown",
      "source": [
        "4. How does Python implement method overloading? Give an example.\n"
      ],
      "metadata": {
        "id": "wvY6py8CeQEl"
      }
    },
    {
      "cell_type": "markdown",
      "source": [
        "Implementing Method Overloading in Python\n",
        "Here are three common approaches to mimic method overloading:\n",
        "\n",
        "Using Default Arguments: You can provide default values for parameters.\n",
        "Using *args and **kwargs: These allow you to accept a variable number of positional and keyword arguments.\n",
        "Using Conditional Logic: You can implement logic within a single method to handle different types or numbers of arguments."
      ],
      "metadata": {
        "id": "dH9CYk-Ce_4x"
      }
    },
    {
      "cell_type": "code",
      "source": [
        "class MathOperations:\n",
        "    def add(self, *args):\n",
        "        total = 0\n",
        "        for num in args:\n",
        "            total += num\n",
        "        return total\n",
        "\n",
        "# Create an instance of MathOperations\n",
        "math_ops = MathOperations()\n",
        "\n",
        "# Using the add method with different numbers of arguments\n",
        "print(math_ops.add(1, 2))          # Output: 3\n",
        "print(math_ops.add(1, 2, 3, 4))    # Output: 10\n",
        "print(math_ops.add(5))              # Output: 5\n",
        "print(math_ops.add())               # Output: 0\n"
      ],
      "metadata": {
        "id": "MvqjfSG-fBLd"
      },
      "execution_count": null,
      "outputs": []
    },
    {
      "cell_type": "markdown",
      "source": [
        "5. What are the three types of access modifiers in Python? How are they denoted?\n"
      ],
      "metadata": {
        "id": "VX5F8-u0fHgy"
      }
    },
    {
      "cell_type": "markdown",
      "source": [
        "1. Public\n",
        "Definition: Public members are accessible from anywhere, both inside and outside the class. By default, all class attributes and methods are public.\n",
        "\n",
        "Denotation: Public members have no special prefix.\n",
        "\n",
        "2. Protected\n",
        "Definition: Protected members are intended to be accessible only within the class and its subclasses. They are not meant to be accessed directly from outside the class hierarchy.\n",
        "\n",
        "Denotation: Protected members are denoted by a single underscore prefix (_).\n",
        "\n",
        "3. Private\n",
        "Definition: Private members are intended to be accessible only within the class itself. They are not accessible from outside the class or its subclasses.\n",
        "\n",
        "Denotation: Private members are denoted by a double underscore prefix (__). This triggers name mangling, which changes the name of the attribute to include the class name."
      ],
      "metadata": {
        "id": "vLgUjTD1fKv7"
      }
    },
    {
      "cell_type": "code",
      "source": [
        "class MyClass:\n",
        "    def __init__(self):\n",
        "        self.public_attribute = \"I am public\"\n",
        "\n",
        "    def public_method(self):\n",
        "        return \"This is a public method\"\n",
        "\n",
        "# Usage\n",
        "obj = MyClass()\n",
        "print(obj.public_attribute)  # Accessible\n",
        "print(obj.public_method())    # Accessible\n",
        "\n",
        "class MyClass:\n",
        "    def __init__(self):\n",
        "        self._protected_attribute = \"I am protected\"\n",
        "\n",
        "    def _protected_method(self):\n",
        "        return \"This is a protected method\"\n",
        "\n",
        "class SubClass(MyClass):\n",
        "    def access_protected(self):\n",
        "        return self._protected_attribute\n",
        "\n",
        "# Usage\n",
        "obj = SubClass()\n",
        "print(obj.access_protected())  # Accessible via subclass\n",
        "print(obj._protected_attribute) # Accessible, but not recommended\n",
        "\n",
        "class MyClass:\n",
        "    def __init__(self):\n",
        "        self.__private_attribute = \"I am private\"\n",
        "\n",
        "    def __private_method(self):\n",
        "        return \"This is a private method\"\n",
        "\n",
        "    def access_private(self):\n",
        "        return self.__private_attribute\n",
        "\n",
        "# Usage\n",
        "obj = MyClass()\n",
        "# print(obj.__private_attribute)  # Raises AttributeError\n",
        "print(obj.access_private())       # Accessible through a public method\n"
      ],
      "metadata": {
        "id": "E5qAjSurgLae"
      },
      "execution_count": null,
      "outputs": []
    },
    {
      "cell_type": "markdown",
      "source": [
        "6. Describe the five types of inheritance in Python. Provide a simple example of multiple inheritance.\n"
      ],
      "metadata": {
        "id": "-xIEu4P7geJz"
      }
    },
    {
      "cell_type": "markdown",
      "source": [
        "Single Inheritance: A child class inherits from one parent class.\n",
        "Multiple Inheritance: A child class inherits from multiple parent classes.\n",
        "Multilevel Inheritance: A child class inherits from a derived class, creating a hierarchy.\n",
        "Hierarchical Inheritance: Multiple child classes inherit from one parent class.\n",
        "Hybrid Inheritance: A combination of multiple types of inheritance."
      ],
      "metadata": {
        "id": "owbRnS6Lgek_"
      }
    },
    {
      "cell_type": "code",
      "source": [
        "class father:\n",
        "  def fath(self):\n",
        "    print(\"father calss\")\n",
        "class mother:\n",
        "  def moth(self):\n",
        "    print(\"mother class\")\n",
        "class child(father,mother):\n",
        "  def chil(self):\n",
        "    print(\"child class\")\n",
        "\n",
        "obj1 = child()\n",
        "obj1.chil()\n",
        "obj1.moth()\n",
        "obj1.fath()\n"
      ],
      "metadata": {
        "colab": {
          "base_uri": "https://localhost:8080/"
        },
        "id": "UmRzdbjBhPYv",
        "outputId": "9f7f9a4f-3f76-4b53-839f-73819b729630"
      },
      "execution_count": 2,
      "outputs": [
        {
          "output_type": "stream",
          "name": "stdout",
          "text": [
            "child class\n",
            "mother class\n",
            "father calss\n"
          ]
        }
      ]
    },
    {
      "cell_type": "markdown",
      "source": [
        "7. What is the Method Resolution Order (MRO) in Python? How can you retrieve it programmatically?\n",
        "\n"
      ],
      "metadata": {
        "id": "cTUURAdniWbt"
      }
    },
    {
      "cell_type": "markdown",
      "source": [
        "Definition: The Method Resolution Order (MRO) is a mechanism in Python that determines the order in which base classes are searched when calling a method on an object. This is especially important in cases of multiple inheritance, where a class may inherit from multiple parent classes. The MRO ensures that the method calls are resolved in a predictable manner.\n",
        "\n",
        "Python uses the C3 linearization algorithm (also known as C3 superclass linearization) to compute the MRO, which ensures a consistent order of method resolution across the inheritance hierarchy.\n",
        "\n",
        "How MRO Works\n",
        "Single Inheritance: In single inheritance, the MRO is straightforward—the base class is searched first, followed by the derived class.\n",
        "\n",
        "Multiple Inheritance: In cases of multiple inheritance, the MRO takes into account the order of inheritance. It starts with the class itself, followed by the parents, left to right. If a parent class is also a subclass of another parent, that subclass is considered next."
      ],
      "metadata": {
        "id": "kHtd_ySkiwEm"
      }
    },
    {
      "cell_type": "markdown",
      "source": [],
      "metadata": {
        "id": "YJi2465mi8HT"
      }
    },
    {
      "cell_type": "markdown",
      "source": [
        "8. Create an abstract base class Shape with an abstract method area(). Then create two subclasses Circle' and 'Rectangle that implement the \"area() method.\n"
      ],
      "metadata": {
        "id": "82uL7B4ni8zB"
      }
    },
    {
      "cell_type": "code",
      "source": [
        "from abc import ABC, abstractmethod\n",
        "import math\n",
        "\n",
        "# Abstract Base Class\n",
        "class Shape(ABC):\n",
        "    @abstractmethod\n",
        "    def area(self):\n",
        "        pass\n",
        "\n",
        "# Subclass: Circle\n",
        "class Circle(Shape):\n",
        "    def __init__(self, radius):\n",
        "        self.radius = radius\n",
        "\n",
        "    def area(self):\n",
        "        return math.pi * (self.radius ** 2)\n",
        "\n",
        "# Subclass: Rectangle\n",
        "class Rectangle(Shape):\n",
        "    def __init__(self, width, height):\n",
        "        self.width = width\n",
        "        self.height = height\n",
        "\n",
        "    def area(self):\n",
        "        return self.width * self.height\n",
        "\n",
        "# Usage\n",
        "circle = Circle(5)\n",
        "rectangle = Rectangle(4, 6)\n",
        "\n",
        "print(f\"Area of the Circle: {circle.area():.2f}\")\n",
        "print(f\"Area of the Rectangle: {rectangle.area():.2f}\")\n"
      ],
      "metadata": {
        "colab": {
          "base_uri": "https://localhost:8080/"
        },
        "id": "J6kahcuZn5zy",
        "outputId": "282d26f6-3927-4c44-fbdf-cbbd764c3e25"
      },
      "execution_count": 5,
      "outputs": [
        {
          "output_type": "stream",
          "name": "stdout",
          "text": [
            "Area of the Circle: 78.54\n",
            "Area of the Rectangle: 24.00\n"
          ]
        }
      ]
    },
    {
      "cell_type": "markdown",
      "source": [
        "8. Demonstrate polymorphism by creating a function that can work with different shape objects to calculate\n",
        "and print their areas.\n"
      ],
      "metadata": {
        "id": "KwLdsHg8oy3Q"
      }
    },
    {
      "cell_type": "code",
      "source": [
        "from abc import ABC, abstractmethod\n",
        "import math\n",
        "\n",
        "# Abstract Base Class\n",
        "class Shape(ABC):\n",
        "    @abstractmethod\n",
        "    def area(self):\n",
        "        pass\n",
        "\n",
        "# Subclass: Circle\n",
        "class Circle(Shape):\n",
        "    def __init__(self, radius):\n",
        "        self.radius = radius\n",
        "\n",
        "    def area(self):\n",
        "        return math.pi * (self.radius ** 2)\n",
        "\n",
        "# Subclass: Rectangle\n",
        "class Rectangle(Shape):\n",
        "    def __init__(self, width, height):\n",
        "        self.width = width\n",
        "        self.height = height\n",
        "\n",
        "    def area(self):\n",
        "        return self.width * self.height\n",
        "\n",
        "# Function to calculate and print the area of different shapes\n",
        "def print_area(shape: Shape):\n",
        "    print(f\"Area: {shape.area():.2f}\")\n",
        "\n",
        "# Usage\n",
        "circle = Circle(5)\n",
        "rectangle = Rectangle(4, 6)\n",
        "\n",
        "print_area(circle)     # Output: Area: 78.54\n",
        "print_area(rectangle)  # Output: Area: 24.00\n"
      ],
      "metadata": {
        "colab": {
          "base_uri": "https://localhost:8080/"
        },
        "id": "fViX7tmMpDsS",
        "outputId": "7ab3b446-5e3a-449d-8204-45a6a809354a"
      },
      "execution_count": 4,
      "outputs": [
        {
          "output_type": "stream",
          "name": "stdout",
          "text": [
            "Area: 78.54\n",
            "Area: 24.00\n"
          ]
        }
      ]
    },
    {
      "cell_type": "markdown",
      "source": [
        "10. Implement encapsulation in a BankAccount class with private attributes for balance and account_number. Include methods for deposit, withdrawal, and balance inquiry.\n"
      ],
      "metadata": {
        "id": "e8zaTZObpZ5Q"
      }
    },
    {
      "cell_type": "code",
      "source": [
        "class BankAccount:\n",
        "    def __init__(self, account_number, initial_balance=0):\n",
        "        self.__account_number = account_number  # Private attribute\n",
        "        self.__balance = initial_balance          # Private attribute\n",
        "\n",
        "    def deposit(self, amount):\n",
        "        \"\"\"Deposit money into the account.\"\"\"\n",
        "        if amount > 0:\n",
        "            self.__balance += amount\n",
        "            print(f\"Deposited: ${amount:.2f}. New balance: ${self.__balance:.2f}\")\n",
        "        else:\n",
        "            print(\"Deposit amount must be positive.\")\n",
        "\n",
        "    def withdraw(self, amount):\n",
        "        \"\"\"Withdraw money from the account.\"\"\"\n",
        "        if 0 < amount <= self.__balance:\n",
        "            self.__balance -= amount\n",
        "            print(f\"Withdrew: ${amount:.2f}. New balance: ${self.__balance:.2f}\")\n",
        "        else:\n",
        "            print(\"Insufficient funds or invalid withdrawal amount.\")\n",
        "\n",
        "    def get_balance(self):\n",
        "        \"\"\"Return the current balance.\"\"\"\n",
        "        return self.__balance\n",
        "\n",
        "    def get_account_number(self):\n",
        "        \"\"\"Return the account number.\"\"\"\n",
        "        return self.__account_number\n",
        "\n",
        "# Usage\n",
        "account = BankAccount(\"123456789\", 1000)\n",
        "\n",
        "# Deposit money\n",
        "account.deposit(200)  # Output: Deposited: $200.00. New balance: $1200.00\n",
        "\n",
        "# Withdraw money\n",
        "account.withdraw(500)  # Output: Withdrew: $500.00. New balance: $700.00\n",
        "\n",
        "# Check balance\n",
        "print(f\"Current balance: ${account.get_balance():.2f}\")  # Output: Current balance: $700.00\n",
        "\n",
        "# Attempt to withdraw more than the balance\n",
        "account.withdraw(800)  # Output: Insufficient funds or invalid withdrawal amount.\n"
      ],
      "metadata": {
        "colab": {
          "base_uri": "https://localhost:8080/"
        },
        "id": "X8IzCDcBuKsG",
        "outputId": "ad602557-ddef-4c87-d3c4-612ed58a6092"
      },
      "execution_count": 3,
      "outputs": [
        {
          "output_type": "stream",
          "name": "stdout",
          "text": [
            "Deposited: $200.00. New balance: $1200.00\n",
            "Withdrew: $500.00. New balance: $700.00\n",
            "Current balance: $700.00\n",
            "Insufficient funds or invalid withdrawal amount.\n"
          ]
        }
      ]
    },
    {
      "cell_type": "markdown",
      "source": [
        "11. Write a class that overrides the str_and_add__ magic methods. What will these methods allow you to do?\n"
      ],
      "metadata": {
        "id": "CgUVTVqouGVl"
      }
    },
    {
      "cell_type": "markdown",
      "source": [
        "__str__ Method:\n",
        "\n",
        "This method is overridden to return a string representation of the instance. When you call str(num1) or print num1, it outputs CustomNumber(5) instead of the default object representation.\n",
        "__add__ Method:\n",
        "\n",
        "This method is overridden to define the behavior of the + operator. When you add two CustomNumber instances, it returns a new instance with the sum of their values.\n",
        "If you attempt to add a CustomNumber to a non-CustomNumber, it returns NotImplemented, which is a common practice in Python to signal that the operation is not supported."
      ],
      "metadata": {
        "id": "3byvN1aruLIx"
      }
    },
    {
      "cell_type": "markdown",
      "source": [
        "13. Explain the concept of the Diamond Problem in multiple inheritance. How does Python respive it?\n"
      ],
      "metadata": {
        "id": "udiKyxheu-q2"
      }
    },
    {
      "cell_type": "markdown",
      "source": [
        "Python uses the C3 linearization algorithm (also known as C3 superclass linearization) to resolve the Diamond Problem. This algorithm creates a method resolution order (MRO) that ensures a consistent order in which classes are searched for methods and attributes.\n",
        "\n",
        "When you call a method on an instance of a class, Python follows this MRO to determine which method to invoke. The MRO prioritizes the order of inheritance and ensures that:\n",
        "\n",
        "A class is only processed once in the hierarchy.\n",
        "The base classes are processed in the order they are declared."
      ],
      "metadata": {
        "id": "FH7QVhRFU2Th"
      }
    },
    {
      "cell_type": "markdown",
      "source": [
        "14. Write a class method that keeps track of the number of instances created from a class\n"
      ],
      "metadata": {
        "id": "91rW5Cs4VKE5"
      }
    },
    {
      "cell_type": "code",
      "source": [
        "class MyClass:\n",
        "    # Class variable to keep track of the number of instances\n",
        "    instance_count = 0\n",
        "\n",
        "    def __init__(self):\n",
        "        # Increment the instance count whenever a new instance is created\n",
        "        MyClass.instance_count += 1\n",
        "\n",
        "    @classmethod\n",
        "    def get_instance_count(cls):\n",
        "        \"\"\"Class method to return the number of instances created.\"\"\"\n",
        "        return cls.instance_count\n",
        "\n",
        "# Example usage\n",
        "if __name__ == \"__main__\":\n",
        "    obj1 = MyClass()\n",
        "    obj2 = MyClass()\n",
        "    obj3 = MyClass()\n",
        "\n",
        "    print(f\"Number of instances created: {MyClass.get_instance_count()}\")\n"
      ],
      "metadata": {
        "colab": {
          "base_uri": "https://localhost:8080/"
        },
        "id": "TFX6MdiiVLaO",
        "outputId": "577fbc36-58ed-4ed7-fd4b-680f784315ff"
      },
      "execution_count": 2,
      "outputs": [
        {
          "output_type": "stream",
          "name": "stdout",
          "text": [
            "Number of instances created: 3\n"
          ]
        }
      ]
    },
    {
      "cell_type": "markdown",
      "source": [
        "15. Implement a static method in a class that checks if a given year is a leap year."
      ],
      "metadata": {
        "id": "VAH5ngXPWhFx"
      }
    },
    {
      "cell_type": "code",
      "source": [
        "class YearUtils:\n",
        "    @staticmethod\n",
        "    def is_leap_year(year):\n",
        "        \"\"\"Check if a given year is a leap year.\"\"\"\n",
        "        if (year % 4 == 0 and year % 100 != 0) or (year % 400 == 0):\n",
        "            return True\n",
        "        return False\n",
        "\n",
        "# Example usage\n",
        "if __name__ == \"__main__\":\n",
        "    year = 2024\n",
        "    if YearUtils.is_leap_year(year):\n",
        "        print(f\"{year} is a leap year.\")\n",
        "    else:\n",
        "        print(f\"{year} is not a leap year.\")\n"
      ],
      "metadata": {
        "colab": {
          "base_uri": "https://localhost:8080/"
        },
        "id": "45EedOGnWiMJ",
        "outputId": "42f3e771-cc1a-4a55-d27c-d4f4c82383ee"
      },
      "execution_count": 1,
      "outputs": [
        {
          "output_type": "stream",
          "name": "stdout",
          "text": [
            "2024 is a leap year.\n"
          ]
        }
      ]
    }
  ]
}