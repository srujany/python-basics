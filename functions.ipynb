{
  "nbformat": 4,
  "nbformat_minor": 0,
  "metadata": {
    "colab": {
      "provenance": [],
      "authorship_tag": "ABX9TyPmfHOc2fvvCWDGWgAyiTDf",
      "include_colab_link": true
    },
    "kernelspec": {
      "name": "python3",
      "display_name": "Python 3"
    },
    "language_info": {
      "name": "python"
    }
  },
  "cells": [
    {
      "cell_type": "markdown",
      "metadata": {
        "id": "view-in-github",
        "colab_type": "text"
      },
      "source": [
        "<a href=\"https://colab.research.google.com/github/srujany/python-basics/blob/main/functions.ipynb\" target=\"_parent\"><img src=\"https://colab.research.google.com/assets/colab-badge.svg\" alt=\"Open In Colab\"/></a>"
      ]
    },
    {
      "cell_type": "markdown",
      "source": [
        "1. What is the difference between a function and a method in Python?\n"
      ],
      "metadata": {
        "id": "6dS6r4f2weOz"
      }
    },
    {
      "cell_type": "markdown",
      "source": [
        "In Python, methods and functions have similar purposes but differ in important ways. Functions are independent blocks of code that can be called from anywhere, while methods are tied to objects or classes and need an object or class instance to be invoked. Functions promote code reusability, while methods offer behavior specific to objects. Functions are called by name, while methods are accessed using dot notation. Understanding these distinctions is crucial for writing organized, modular code in Python and harnessing the full power of methods and functions in various programming scenarios."
      ],
      "metadata": {
        "id": "NKh4Kv-8wRav"
      }
    },
    {
      "cell_type": "code",
      "source": [
        "# eg;Python 3 User-Defined Method\n",
        "class ABC :\n",
        "\tdef method_abc (self):\n",
        "\t\tprint(\"I am in method_abc of ABC class. \")\n",
        "\n",
        "class_ref = ABC()\n",
        "class_ref.method_abc()\n"
      ],
      "metadata": {
        "id": "lkd0pmNexa19"
      },
      "execution_count": null,
      "outputs": []
    },
    {
      "cell_type": "markdown",
      "source": [
        "2. Explain the concept of function arguments and parameters in Python.\n"
      ],
      "metadata": {
        "id": "Ce_YCredwRmy"
      }
    },
    {
      "cell_type": "markdown",
      "source": [
        "In Python, a function is a block of code that can be executed multiple times from different parts of a program. When a function is called, it expects certain values to be passed to it, which are known as arguments. These arguments are matched with the parameters defined in the function’s signature.\n",
        "\n",
        "Function Parameters: A function parameter is a variable declared within the function definition, which is used to receive the values passed as arguments when the function is called. Parameters are defined within the function’s parentheses, separated by commas.\n",
        "\n",
        "Example:"
      ],
      "metadata": {
        "id": "w_BQja6RwR2v"
      }
    },
    {
      "cell_type": "code",
      "source": [
        "def greet(name, age):\n",
        "    print(f\"Hello, {name}! You are {age} years old.\")\n",
        "greet(\"srujan\", 18)"
      ],
      "metadata": {
        "colab": {
          "base_uri": "https://localhost:8080/"
        },
        "id": "ev_VadOPUAkU",
        "outputId": "edd7ac9a-b3ea-40b6-df79-0dac9e7837ac"
      },
      "execution_count": null,
      "outputs": [
        {
          "output_type": "stream",
          "name": "stdout",
          "text": [
            "Hello, srujan! You are 18 years old.\n"
          ]
        }
      ]
    },
    {
      "cell_type": "markdown",
      "source": [
        "3. What are the different ways to define and call a function in Python?\n"
      ],
      "metadata": {
        "id": "1a-20-9ZUOek"
      }
    },
    {
      "cell_type": "markdown",
      "source": [
        "Defining a Function\n",
        "\n",
        "Basic Function Definition: def function_name(): followed by indentation and the function body.\n",
        "Function Definition with Parameters: def function_name(parameters): where parameters are specified within parentheses.\n",
        "Default Parameters: def function_name(parameters=default_value): where default_value is specified for optional parameters.\n",
        "Keyword Arguments: def function_name(**kwargs): where kwargs allows for arbitrary keyword arguments.\n",
        "\n",
        "\n",
        "Calling a Function\n",
        "\n",
        "Positional Arguments: function_name(arg1, arg2, ...) where arguments are passed in order.\n",
        "Keyword Arguments: function_name(arg1=value1, arg2=value2, ...) where arguments are passed with their corresponding values.\n",
        "Mixed Positional and Keyword Arguments: function_name(arg1, arg2=value2, ...) where some arguments are positional and others are keyword arguments.\n",
        "Unpacking Arguments: function_name(*args, **kwargs) where args and kwargs allow for variable-length argument lists."
      ],
      "metadata": {
        "id": "T-4DHZv3UOto"
      }
    },
    {
      "cell_type": "markdown",
      "source": [
        "4. What is the purpose of the \"return' statement in a Python function?\n"
      ],
      "metadata": {
        "id": "FnjUI5cLXjrt"
      }
    },
    {
      "cell_type": "markdown",
      "source": [
        "End Function Execution: When a return statement is executed, the function stops running, and control is returned to the point where the function was called.\n",
        "\n",
        "Provide Output: It allows a function to output a value that can be used elsewhere in the code. This can be any data type, including numbers, strings, lists, etc.\n",
        "\n",
        "Multiple Return Points: You can have multiple return statements within a function, allowing for different outputs based on certain conditions.\n",
        "\n",
        "Return None: If a function doesn’t have a return statement or it reaches the end without hitting one, it returns None by default."
      ],
      "metadata": {
        "id": "fSMk-AKDXkCi"
      }
    },
    {
      "cell_type": "code",
      "source": [
        "def add(a, b):\n",
        "    return a + b\n",
        "\n",
        "result = add(3, 4)\n",
        "print(result)\n"
      ],
      "metadata": {
        "colab": {
          "base_uri": "https://localhost:8080/"
        },
        "id": "EFBDd5knZEcr",
        "outputId": "31d56ad9-25ea-4dda-9486-df52ebec2d9b"
      },
      "execution_count": null,
      "outputs": [
        {
          "output_type": "stream",
          "name": "stdout",
          "text": [
            "7\n",
            "7\n"
          ]
        }
      ]
    },
    {
      "cell_type": "markdown",
      "source": [
        "5. What are iterators in Python and how do do they differ from iterables?\n",
        "\n"
      ],
      "metadata": {
        "id": "opOWne8UZanF"
      }
    },
    {
      "cell_type": "markdown",
      "source": [
        "Iterables\n",
        "An iterable is any Python object that can return its elements one at a time. Examples include lists, tuples, strings, dictionaries, and sets.\n",
        "Iterables implement the __iter__() method, which returns an iterator.\n",
        "You can use a for loop or the list(), tuple(), or set() functions to iterate over an iterable.\n",
        "Iterators\n",
        "An iterator is an object that represents a stream of data. It allows you to traverse through all the elements in an iterable.\n",
        "Iterators implement two methods:\n",
        "__iter__(): Returns the iterator object itself.\n",
        "__next__(): Returns the next value from the iterator. When there are no more elements to return, it raises a StopIteration exception."
      ],
      "metadata": {
        "id": "drAdGITBZa2c"
      }
    },
    {
      "cell_type": "code",
      "source": [
        "# An iterable\n",
        "my_list = [1, 2, 3]\n",
        "\n",
        "# Getting an iterator from the iterable\n",
        "my_iterator = iter(my_list)\n",
        "\n",
        "# Using the iterator to get values\n",
        "print(next(my_iterator))\n",
        "print(next(my_iterator))\n",
        "print(next(my_iterator))\n",
        "\n",
        "\n"
      ],
      "metadata": {
        "id": "WBPbZFN3plJK"
      },
      "execution_count": null,
      "outputs": []
    },
    {
      "cell_type": "markdown",
      "source": [
        "6. Explain the concept of generators in Python and how they are defined.\n"
      ],
      "metadata": {
        "id": "7CzPtggzqBJg"
      }
    },
    {
      "cell_type": "markdown",
      "source": [
        "A generator function uses the yield statement instead of return. When a generator function is called, it doesn't execute the function body immediately. Instead, it returns a generator object, which can be iterated over to retrieve values one at a time."
      ],
      "metadata": {
        "id": "Q0UcxdxqqBdG"
      }
    },
    {
      "cell_type": "code",
      "source": [
        "def countdown(n):\n",
        "    while n > 0:\n",
        "        yield n\n",
        "        n -= 1\n",
        "print(next(countdown(5)))"
      ],
      "metadata": {
        "colab": {
          "base_uri": "https://localhost:8080/"
        },
        "id": "PZK9DomxrPMQ",
        "outputId": "0812433d-5aac-405e-932b-a051d7d18433"
      },
      "execution_count": null,
      "outputs": [
        {
          "output_type": "stream",
          "name": "stdout",
          "text": [
            "5\n"
          ]
        }
      ]
    },
    {
      "cell_type": "markdown",
      "source": [
        "7. What are the advantages of using generators over regular functions?\n"
      ],
      "metadata": {
        "id": "B8wy1yQtrz5a"
      }
    },
    {
      "cell_type": "markdown",
      "source": [
        "1. Memory Efficiency\n",
        "Lazy Evaluation: Generators produce values on-the-fly, meaning they only generate values as needed. This is especially useful for large datasets, as they don't require storing all values in memory at once.\n",
        "Reduced Memory Footprint: Because they yield one item at a time, generators can handle large sequences without consuming a lot of memory.\n",
        "2. State Retention\n",
        "Resume Execution: When a generator yields a value, it retains its state (including local variables) for the next call. This allows you to build complex iteration logic without losing track of where you are in the sequence.\n",
        "3. Improved Performance\n",
        "Lower Overhead: For long-running processes or infinite sequences, generators can be more efficient than regular functions because they don't compute all results upfront.\n",
        "Faster Iteration: You can start processing items immediately without waiting for the entire dataset to be generated.\n",
        "4. Simplified Code\n",
        "Cleaner Syntax: Generators can lead to more straightforward and readable code, especially when dealing with sequences. You can avoid the need for managing indices and loop counters manually.\n",
        "5. Infinite Sequences\n",
        "Ease of Use for Infinite Data: Generators can represent infinite sequences, allowing for constructs like Fibonacci numbers or streams of data that can be processed in real time without ever exhausting memory.\n",
        "6. Pipeline Processing\n",
        "Chaining Generators: You can easily create pipelines of generators that pass data between them, promoting modular design and separation of concerns in your code."
      ],
      "metadata": {
        "id": "RovTC2ssr0oi"
      }
    },
    {
      "cell_type": "code",
      "source": [
        "def get_squares_generator(n):\n",
        "    for x in range(n):\n",
        "        yield x * x\n",
        "print(next(get_squares_generator(8)))\n",
        "\n"
      ],
      "metadata": {
        "colab": {
          "base_uri": "https://localhost:8080/"
        },
        "id": "eWIodainr08N",
        "outputId": "9950a33b-6fc7-4af3-8fa6-883bf4678510"
      },
      "execution_count": null,
      "outputs": [
        {
          "output_type": "stream",
          "name": "stdout",
          "text": [
            "0\n",
            "0\n"
          ]
        }
      ]
    },
    {
      "cell_type": "markdown",
      "source": [
        "Lambda functions are typically used in the following situations:\n",
        "\n",
        "Filtering iterables: When you need to filter a list, tuple, or other iterable based on a simple condition, lambda functions are a good choice. For example, filter(lambda x: x % 2 == 0, my_list) filters out odd numbers from a list.\n",
        "Mapping iterables: When you need to transform each element of an iterable, lambda functions can be used. For example, map(lambda x: x**2, my_list) squares each element of a list.\n",
        "Sorting: Lambda functions can be used as a sorting key when sorting a list or other iterable.\n",
        "Event handling: Lambda functions can be used as event handlers in GUI programming or web development, where a simple, one-time-use function is needed.\n",
        "Data processing: Lambda functions can be used to perform simple data transformations or aggregations, such as grouping or aggregating data in a Pandas DataFrame"
      ],
      "metadata": {
        "id": "QXLu1blryuwV"
      }
    },
    {
      "cell_type": "markdown",
      "source": [
        "9. Explain the purpose and usage of the map() function in Python.\n",
        "\n"
      ],
      "metadata": {
        "id": "dQ93k1r5yu_R"
      }
    },
    {
      "cell_type": "markdown",
      "source": [
        "The map() function in Python is a built-in function that applies a given function to each item of an iterable (such as a list, tuple, or string) and returns a new iterator or iterable with the results.\n",
        "\n",
        "Usage: The basic syntax of map() is:\n",
        "\n",
        "map(function, iterable, ...)"
      ],
      "metadata": {
        "id": "qgPRWTQ4Ahz6"
      }
    },
    {
      "cell_type": "code",
      "source": [
        "numbers = [1, 2, 3, 4, 5]\n",
        "squared_numbers = map(lambda x: x**2, numbers)\n",
        "print(list(squared_numbers))  # [1, 4, 9, 16, 25]"
      ],
      "metadata": {
        "id": "XTSU7Y1WAj5l"
      },
      "execution_count": null,
      "outputs": []
    },
    {
      "cell_type": "markdown",
      "source": [
        "10. What is the difference between 'map(), reduce(), and filter() functions in Python?\n",
        "\n",
        "\n"
      ],
      "metadata": {
        "id": "61ZHe5d9Auje"
      }
    },
    {
      "cell_type": "markdown",
      "source": [
        "Purpose: map() transforms data, filter() filters data, and reduce() accumulates data.\n",
        "Return Type: map() returns a map object, filter() returns an iterator, and reduce() returns a single value.\n",
        "Function Application: map() applies the function to each element, filter() applies the function to each element and filters out those that return False, and reduce() applies the function to sequential pairs of elements."
      ],
      "metadata": {
        "id": "CBfiy3WJAuwJ"
      }
    },
    {
      "cell_type": "markdown",
      "source": [
        "11. Using pen & Paper write the internal mechanism for sum operation using reduce function on this given"
      ],
      "metadata": {
        "id": "TyVMRY38BzVF"
      }
    },
    {
      "cell_type": "markdown",
      "source": [],
      "metadata": {
        "id": "6e9qZ8E1BzjQ"
      }
    },
    {
      "cell_type": "markdown",
      "source": [],
      "metadata": {
        "id": "jZGZG9vg7JpN"
      }
    },
    {
      "cell_type": "markdown",
      "source": [
        "1. Write a Python function that takes a list of numbers as input and returns the sum of all even numbers in the list.\n"
      ],
      "metadata": {
        "id": "F6VIflVg7J1h"
      }
    },
    {
      "cell_type": "code",
      "source": [
        "\n",
        "l1 = list((input(\"list\")))\n",
        "l1 = [int(x) for x in l1]\n",
        "def add(l):\n",
        "  sum = 0\n",
        "  for i in l:\n",
        "    if i % 2 == 0:\n",
        "      sum += i\n",
        "  else:\n",
        "    sum = sum\n",
        "  return sum\n",
        "\n",
        "\n",
        "print(add(l1))\n",
        "\n",
        "\n",
        "\n"
      ],
      "metadata": {
        "colab": {
          "base_uri": "https://localhost:8080/"
        },
        "id": "W1je1WAQBz2F",
        "outputId": "c5dc6c1f-3e7a-46fa-e24f-5cd45e579cfa"
      },
      "execution_count": null,
      "outputs": [
        {
          "output_type": "stream",
          "name": "stdout",
          "text": [
            "list234\n",
            "6\n"
          ]
        }
      ]
    },
    {
      "cell_type": "markdown",
      "source": [
        "2. Create a Python function that accepts a string and returns the reverse of that string.\n"
      ],
      "metadata": {
        "id": "C6X852-k-5w-"
      }
    },
    {
      "cell_type": "code",
      "source": [
        "y = lambda x: print(x[len(x)::-1])\n",
        "y(input(\"string\"))"
      ],
      "metadata": {
        "colab": {
          "base_uri": "https://localhost:8080/"
        },
        "id": "1N-GIwX9_KDu",
        "outputId": "e4cc5088-982e-4d42-a61e-fc2dd04450f1"
      },
      "execution_count": null,
      "outputs": [
        {
          "output_type": "stream",
          "name": "stdout",
          "text": [
            "stringsrujan\n",
            "najurs\n"
          ]
        }
      ]
    },
    {
      "cell_type": "markdown",
      "source": [
        "3. Implement a Python function that takes a list of integers and returns a new list containing the squares of each number.\n"
      ],
      "metadata": {
        "id": "8LGqGFVb_6Tr"
      }
    },
    {
      "cell_type": "code",
      "source": [],
      "metadata": {
        "id": "y65y6PMOI4bj"
      },
      "execution_count": null,
      "outputs": []
    },
    {
      "cell_type": "markdown",
      "source": [
        "4. Write a Python function that checks if a given number is prime or not from 1 to 200.\n",
        "\n"
      ],
      "metadata": {
        "id": "1uBVMTcHI83l"
      }
    },
    {
      "cell_type": "code",
      "source": [
        "def print_primes_below_200():\n",
        "    for num in range(2, 200):\n",
        "        is_prime = True\n",
        "        for i in range(2, int(num**0.5) + 1):\n",
        "            if num % i == 0:\n",
        "                is_prime = False\n",
        "                break\n",
        "        if is_prime:\n",
        "            print(num)\n",
        "\n",
        "# Call the function\n",
        "print_primes_below_200()\n"
      ],
      "metadata": {
        "id": "ZBg72Z2v_6to",
        "colab": {
          "base_uri": "https://localhost:8080/"
        },
        "outputId": "c70027b2-da63-4d97-b63b-c87dbb1eb698"
      },
      "execution_count": 1,
      "outputs": [
        {
          "output_type": "stream",
          "name": "stdout",
          "text": [
            "2\n",
            "3\n",
            "5\n",
            "7\n",
            "11\n",
            "13\n",
            "17\n",
            "19\n",
            "23\n",
            "29\n",
            "31\n",
            "37\n",
            "41\n",
            "43\n",
            "47\n",
            "53\n",
            "59\n",
            "61\n",
            "67\n",
            "71\n",
            "73\n",
            "79\n",
            "83\n",
            "89\n",
            "97\n",
            "101\n",
            "103\n",
            "107\n",
            "109\n",
            "113\n",
            "127\n",
            "131\n",
            "137\n",
            "139\n",
            "149\n",
            "151\n",
            "157\n",
            "163\n",
            "167\n",
            "173\n",
            "179\n",
            "181\n",
            "191\n",
            "193\n",
            "197\n",
            "199\n"
          ]
        }
      ]
    },
    {
      "cell_type": "markdown",
      "source": [
        "5. Create an iterator class in Python that generates the Fibonacci sequence up to a specified number of terms.\n"
      ],
      "metadata": {
        "id": "BDIbmYl4IeJT"
      }
    },
    {
      "cell_type": "code",
      "source": [
        "class FibonacciIterator:\n",
        "    def __init__(self, n):\n",
        "        self.n = n  # Number of terms\n",
        "        self.current = 0  # Current index\n",
        "        self.a, self.b = 0, 1  # First two Fibonacci numbers\n",
        "\n",
        "    def __iter__(self):\n",
        "        return self\n",
        "\n",
        "    def __next__(self):\n",
        "        if self.current >= self.n:\n",
        "            raise StopIteration\n",
        "        if self.current == 0:\n",
        "            self.current += 1\n",
        "            return self.a\n",
        "        elif self.current == 1:\n",
        "            self.current += 1\n",
        "            return self.b\n",
        "        else:\n",
        "            next_value = self.a + self.b\n",
        "            self.a, self.b = self.b, next_value\n",
        "            self.current += 1\n",
        "            return next_value\n",
        "\n",
        "# Example usage:\n",
        "fibonacci_terms = 10\n",
        "fibonacci_sequence = FibonacciIterator(fibonacci_terms)\n",
        "\n",
        "for number in fibonacci_sequence:\n",
        "    print(number)\n"
      ],
      "metadata": {
        "colab": {
          "base_uri": "https://localhost:8080/"
        },
        "id": "IjWftoM6Iel9",
        "outputId": "bac2c25c-a1de-4f3b-8212-1bbb6fcfa2f3"
      },
      "execution_count": 2,
      "outputs": [
        {
          "output_type": "stream",
          "name": "stdout",
          "text": [
            "0\n",
            "1\n",
            "1\n",
            "2\n",
            "3\n",
            "5\n",
            "8\n",
            "13\n",
            "21\n",
            "34\n"
          ]
        }
      ]
    },
    {
      "cell_type": "markdown",
      "source": [
        "6. Write a generator function in Python that yields the powers of 2 up to a given exponent.\n",
        "\n"
      ],
      "metadata": {
        "id": "4nIv0KNvJ6MD"
      }
    },
    {
      "cell_type": "code",
      "source": [
        "def powers_of_two(exponent):\n",
        "    for i in range(exponent + 1):\n",
        "        yield 2 ** i\n",
        "\n",
        "# Example usage:\n",
        "exponent = 10\n",
        "for power in powers_of_two(exponent):\n",
        "    print(power)\n",
        ""
      ],
      "metadata": {
        "colab": {
          "base_uri": "https://localhost:8080/"
        },
        "id": "ZUa_e9kMJ6ij",
        "outputId": "9f57b92b-d4bd-460a-e9ad-8c498e66f84e"
      },
      "execution_count": 8,
      "outputs": [
        {
          "output_type": "stream",
          "name": "stdout",
          "text": [
            "1\n",
            "2\n",
            "4\n",
            "8\n",
            "16\n",
            "32\n",
            "64\n",
            "128\n",
            "256\n",
            "512\n",
            "1024\n"
          ]
        }
      ]
    },
    {
      "cell_type": "markdown",
      "source": [
        "7.Implement a generator function that reads a file line by line and yields each line as a string.\n",
        "\n",
        "**bold text**"
      ],
      "metadata": {
        "id": "zHyLAUKKLZWt"
      }
    },
    {
      "cell_type": "code",
      "source": [
        "def read_file_line_by_line(file_path):\n",
        "    with open(file_path, 'r') as file:\n",
        "        for line in file:\n",
        "            yield line.strip()  # Yield each line, stripping whitespace/newline characters\n",
        "\n",
        "# Example usage:\n",
        "file_path = 'example.txt'  # Replace with your actual file path\n",
        "for line in read_file_line_by_line(file_path):\n",
        "    print(line)\n"
      ],
      "metadata": {
        "id": "xUE4BOuiLb-A"
      },
      "execution_count": null,
      "outputs": []
    },
    {
      "cell_type": "markdown",
      "source": [
        "8. Use a lambda function in Python to sort a list of tuples based on the second element of each tuple.\n",
        "\n"
      ],
      "metadata": {
        "id": "U8CgoSTWMWEh"
      }
    },
    {
      "cell_type": "code",
      "source": [
        "# Sample list of tuples\n",
        "data = [('apple', 3), ('banana', 1), ('cherry', 2)]\n",
        "\n",
        "# Sort the list using a lambda function as the key\n",
        "sorted_data = sorted(data, key=lambda item: item[1])\n",
        "\n",
        "# Print the sorted list\n",
        "print(sorted_data)  # Output: [('banana', 1), ('cherry', 2), ('apple', 3)]"
      ],
      "metadata": {
        "colab": {
          "base_uri": "https://localhost:8080/"
        },
        "id": "-Dj7pvQLMWYm",
        "outputId": "c21a9e99-ce1a-48b8-c01d-0c26f7f17607"
      },
      "execution_count": 10,
      "outputs": [
        {
          "output_type": "stream",
          "name": "stdout",
          "text": [
            "[('banana', 1), ('cherry', 2), ('apple', 3)]\n"
          ]
        }
      ]
    },
    {
      "cell_type": "markdown",
      "source": [
        "9. Write a Python program that uses map() to convert a list of temperatures from Celsius to Fahrenheit.\n"
      ],
      "metadata": {
        "id": "90kJKaAqOISA"
      }
    },
    {
      "cell_type": "code",
      "source": [
        "def celsius_to_fahrenheit(celsius):\n",
        "    \"\"\"Converts Celsius to Fahrenheit.\"\"\"\n",
        "    return (9/5) * celsius + 32\n",
        "\n",
        "# List of Celsius temperatures\n",
        "celsius_temps = [0, 10, 20, 30, 40]\n",
        "\n",
        "# Use map() to convert to Fahrenheit\n",
        "fahrenheit_temps = list(map(celsius_to_fahrenheit, celsius_temps))\n",
        "\n",
        "# Print the results\n",
        "print(fahrenheit_temps)  # Output: [32.0, 50.0, 68.0, 86.0, 104.0]"
      ],
      "metadata": {
        "colab": {
          "base_uri": "https://localhost:8080/"
        },
        "id": "xx0qW8SUOIkx",
        "outputId": "3b0c296f-f7e1-4f92-851b-785af089a194"
      },
      "execution_count": 11,
      "outputs": [
        {
          "output_type": "stream",
          "name": "stdout",
          "text": [
            "[32.0, 50.0, 68.0, 86.0, 104.0]\n"
          ]
        }
      ]
    },
    {
      "cell_type": "markdown",
      "source": [
        "10. Create a Python program that uses 'filter()` to remove all the vowels from a given string.\n"
      ],
      "metadata": {
        "id": "BVmEvOHsOyda"
      }
    },
    {
      "cell_type": "code",
      "source": [
        "def remove_vowels(a):\n",
        "    vowels = 'aeiouAEIOU'\n",
        "    return [i for i in a if i not in vowels]\n",
        "print(remove_vowels(\"srujan\"))\n"
      ],
      "metadata": {
        "colab": {
          "base_uri": "https://localhost:8080/"
        },
        "id": "jO5ZHWzZOy0m",
        "outputId": "0dfdb560-cf61-4c33-d04d-9401a20ef342"
      },
      "execution_count": 14,
      "outputs": [
        {
          "output_type": "stream",
          "name": "stdout",
          "text": [
            "['s', 'r', 'j', 'n']\n"
          ]
        }
      ]
    },
    {
      "cell_type": "markdown",
      "source": [
        "Write a Python program using lambda and map."
      ],
      "metadata": {
        "id": "SPTP-1KL6Gxd"
      }
    },
    {
      "cell_type": "code",
      "source": [
        "numbers = [1, 2, 3, 4, 5]\n",
        "s = list(map(lambda x: x**2, numbers))\n",
        "print(s)\n"
      ],
      "metadata": {
        "colab": {
          "base_uri": "https://localhost:8080/"
        },
        "id": "K-DJ49CL6Hgh",
        "outputId": "e57de5bd-f4d0-4686-f6e5-aff6d8862d71"
      },
      "execution_count": 1,
      "outputs": [
        {
          "output_type": "stream",
          "name": "stdout",
          "text": [
            "[1, 4, 9, 16, 25]\n"
          ]
        }
      ]
    }
  ]
}